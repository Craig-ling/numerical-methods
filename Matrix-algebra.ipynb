{
 "cells": [
  {
   "cell_type": "markdown",
   "metadata": {},
   "source": [
    "# Matrix algebra\n",
    "\n",
    "A matrix is an $n \\times m$ rectangle of numbers, written as follows:\n",
    "\n",
    "$$\n",
    "\\textbf{A}=\n",
    "\\begin{bmatrix}\n",
    "A_{11} & A_{12} & A_{13} \\\\\n",
    "A_{21} & A_{22} & A_{23} \\\\\n",
    "A_{31} & A_{32} & A_{33}\n",
    "\\end{bmatrix}\n",
    "$$\n",
    "(in this example, $n=3$ and $m=3$)\n",
    "\n",
    "Special cases:\n",
    "* $n=m$: $\\textit{square matrix}$\n",
    "* $n=1$: $\\textit{row vector}$\n",
    "* $m=1$: $\\textit{column vector}$"
   ]
  },
  {
   "cell_type": "markdown",
   "metadata": {},
   "source": [
    "## Transpose\n",
    "\n",
    "The transpose of a matrix $\\textbf{A}$ is written $\\textbf{A}^T$ and defined as:\n",
    "$$\n",
    "\\quad A^T_{ij} = A_{ji}, \\quad \\forall i \\in |[1, n]|, \\forall j \\in |[1, m]|\n",
    "$$\n",
    "\n",
    "A matrix is called $\\textit{symmetric}$ if $\\textbf{A}^T=\\textbf{A}$."
   ]
  },
  {
   "cell_type": "markdown",
   "metadata": {},
   "source": [
    "## Addition\n",
    "\n",
    "The sum $\\textbf{C}$ = $\\textbf{A}$ + $\\textbf{B}$ of two matrices of size $n \\times m$ is defined as:\n",
    "$$\n",
    "C_{ij} = A_{ij} + B_{ij}, \\quad \\forall i \\in |[1, n]|, \\forall j \\in |[1, m]|\n",
    "$$"
   ]
  },
  {
   "cell_type": "markdown",
   "metadata": {},
   "source": [
    "## Product\n",
    "\n",
    "The product $\\textbf{C}$=$\\textbf{AB}$ of an $n \\times p$ matrix with a $p x m$ matrix is an $n \\times m$ matrix defined as:\n",
    "    \n",
    "$$\n",
    "C_{ij} = \\sum_{k=1}^p A_{ik}B_{kj} \\forall i \\in |[1, n]|, \\forall j \\in |[1, m]|\n",
    "$$\n",
    "\n",
    "Warnings:\n",
    "* Mind the matrix sizes!\n",
    "* In general, product is not commutative! But it is associative and distributive over addition."
   ]
  },
  {
   "cell_type": "markdown",
   "metadata": {},
   "source": [
    "#### Example\n",
    "\n",
    "Compute the product of $\\textbf{A}$ with $\\textbf{B}$ defined as follows:\n",
    "$$\n",
    "\\textbf{A} = \n",
    "\\begin{bmatrix}\n",
    "1 & 2 & 3 \\\\\n",
    "4 & 5 & 6\n",
    "\\end{bmatrix}\n",
    "\\quad and \\quad \\textbf{B} = \n",
    "\\begin{bmatrix}\n",
    "1 & 2  \\\\\n",
    "4 & 5 \\\\\n",
    "7 & 8 \n",
    "\\end{bmatrix}\n",
    "$$\n",
    "(we will do it manually in class)\n",
    "\n",
    "With numpy:"
   ]
  },
  {
   "cell_type": "code",
   "execution_count": 3,
   "metadata": {},
   "outputs": [
    {
     "data": {
      "text/plain": [
       "array([[30, 36],\n",
       "       [66, 81]])"
      ]
     },
     "execution_count": 3,
     "metadata": {},
     "output_type": "execute_result"
    }
   ],
   "source": [
    "from numpy import array\n",
    "from numpy import dot\n",
    "\n",
    "a = array([[1, 2, 3],[4, 5, 6]])\n",
    "b = array([[1,2],[4,5],[7,8]])\n",
    "dot(a,b) # note the expression of the matrix product as a dot product between rows of A and columns of B"
   ]
  },
  {
   "cell_type": "markdown",
   "metadata": {},
   "source": [
    "### Exercise\n",
    "\n",
    "Write a Python program that computes the product of two matrices.\n",
    "\n",
    "Solution:"
   ]
  },
  {
   "cell_type": "code",
   "execution_count": 10,
   "metadata": {},
   "outputs": [],
   "source": [
    "from numpy import zeros\n",
    "def product(a, b):\n",
    "    c = zeros((len(a), len(b[0])))\n",
    "    for i in range(len(a)):\n",
    "        for j in range(len(b[0])):\n",
    "            c[i, j] = dot(a[i],b[:][j])\n",
    "    return c\n",
    "            "
   ]
  },
  {
   "cell_type": "code",
   "execution_count": 11,
   "metadata": {},
   "outputs": [
    {
     "ename": "ValueError",
     "evalue": "shapes (3,) and (2,) not aligned: 3 (dim 0) != 2 (dim 0)",
     "output_type": "error",
     "traceback": [
      "\u001b[0;31m---------------------------------------------------------------------------\u001b[0m",
      "\u001b[0;31mValueError\u001b[0m                                Traceback (most recent call last)",
      "\u001b[0;32m<ipython-input-11-e15c5343d74d>\u001b[0m in \u001b[0;36m<module>\u001b[0;34m()\u001b[0m\n\u001b[0;32m----> 1\u001b[0;31m \u001b[0mproduct\u001b[0m\u001b[0;34m(\u001b[0m\u001b[0ma\u001b[0m\u001b[0;34m,\u001b[0m \u001b[0mb\u001b[0m\u001b[0;34m)\u001b[0m\u001b[0;34m\u001b[0m\u001b[0m\n\u001b[0m",
      "\u001b[0;32m<ipython-input-10-60f523450a9e>\u001b[0m in \u001b[0;36mproduct\u001b[0;34m(a, b)\u001b[0m\n\u001b[1;32m      4\u001b[0m     \u001b[0;32mfor\u001b[0m \u001b[0mi\u001b[0m \u001b[0;32min\u001b[0m \u001b[0mrange\u001b[0m\u001b[0;34m(\u001b[0m\u001b[0mlen\u001b[0m\u001b[0;34m(\u001b[0m\u001b[0ma\u001b[0m\u001b[0;34m)\u001b[0m\u001b[0;34m)\u001b[0m\u001b[0;34m:\u001b[0m\u001b[0;34m\u001b[0m\u001b[0m\n\u001b[1;32m      5\u001b[0m         \u001b[0;32mfor\u001b[0m \u001b[0mj\u001b[0m \u001b[0;32min\u001b[0m \u001b[0mrange\u001b[0m\u001b[0;34m(\u001b[0m\u001b[0mlen\u001b[0m\u001b[0;34m(\u001b[0m\u001b[0mb\u001b[0m\u001b[0;34m[\u001b[0m\u001b[0;36m0\u001b[0m\u001b[0;34m]\u001b[0m\u001b[0;34m)\u001b[0m\u001b[0;34m)\u001b[0m\u001b[0;34m:\u001b[0m\u001b[0;34m\u001b[0m\u001b[0m\n\u001b[0;32m----> 6\u001b[0;31m             \u001b[0mc\u001b[0m\u001b[0;34m[\u001b[0m\u001b[0mi\u001b[0m\u001b[0;34m,\u001b[0m \u001b[0mj\u001b[0m\u001b[0;34m]\u001b[0m \u001b[0;34m=\u001b[0m \u001b[0mdot\u001b[0m\u001b[0;34m(\u001b[0m\u001b[0ma\u001b[0m\u001b[0;34m[\u001b[0m\u001b[0mi\u001b[0m\u001b[0;34m]\u001b[0m\u001b[0;34m,\u001b[0m\u001b[0mb\u001b[0m\u001b[0;34m[\u001b[0m\u001b[0;34m:\u001b[0m\u001b[0;34m]\u001b[0m\u001b[0;34m[\u001b[0m\u001b[0mj\u001b[0m\u001b[0;34m]\u001b[0m\u001b[0;34m)\u001b[0m\u001b[0;34m\u001b[0m\u001b[0m\n\u001b[0m\u001b[1;32m      7\u001b[0m     \u001b[0;32mreturn\u001b[0m \u001b[0mc\u001b[0m\u001b[0;34m\u001b[0m\u001b[0m\n\u001b[1;32m      8\u001b[0m \u001b[0;34m\u001b[0m\u001b[0m\n",
      "\u001b[0;31mValueError\u001b[0m: shapes (3,) and (2,) not aligned: 3 (dim 0) != 2 (dim 0)"
     ]
    }
   ],
   "source": [
    "product(a, b)"
   ]
  },
  {
   "cell_type": "markdown",
   "metadata": {},
   "source": [
    "### Identity Matrix\n",
    "\n",
    "The identity matrix of size $n$ is a square matrix with $1$s on its diagonal and $0$s everywhere else:\n",
    "$$\n",
    "\\textbf{I_n}=\n",
    "\\begin{bmatrix}\n",
    "1 & 0 & 0 & \\ldots & 0 \\\\\n",
    "0 & 1 & 0 & \\ldots &0 \\\\\n",
    "0 & 0 & 1 & \\ldots & 0 \\\\\n",
    "\\ldots \\\\\n",
    "0 & 0 & 0 & \\ldots & 1\n",
    "\\end{bmatrix}\n",
    "$$\n",
    "\n",
    "It verifies $\\textbf{AI} = \\textbf{IA} = \\textbf{A}$ for every square matrix $\\textbf{A}$ of size $n$."
   ]
  },
  {
   "cell_type": "markdown",
   "metadata": {},
   "source": []
  }
 ],
 "metadata": {
  "kernelspec": {
   "display_name": "Python 3",
   "language": "python",
   "name": "python3"
  },
  "language_info": {
   "codemirror_mode": {
    "name": "ipython",
    "version": 3
   },
   "file_extension": ".py",
   "mimetype": "text/x-python",
   "name": "python",
   "nbconvert_exporter": "python",
   "pygments_lexer": "ipython3",
   "version": "3.6.6"
  }
 },
 "nbformat": 4,
 "nbformat_minor": 2
}
