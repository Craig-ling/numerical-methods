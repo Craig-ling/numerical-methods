{
 "cells": [
  {
   "cell_type": "markdown",
   "metadata": {},
   "source": [
    "# Matrix algebra\n",
    "\n",
    "A matrix is an $n \\times m$ rectangle of numbers, written as follows:\n",
    "\n",
    "$$\n",
    "\\textbf{A}=\n",
    "\\begin{bmatrix}\n",
    "A_{11} & A_{12} & A_{13} \\\\\n",
    "A_{21} & A_{22} & A_{23} \\\\\n",
    "A_{31} & A_{32} & A_{33}\n",
    "\\end{bmatrix}\n",
    "$$\n",
    "(in this example, $n=3$ and $m=3$)\n",
    "\n",
    "Special cases:\n",
    "* $n=m$: $\\textit{square matrix}$\n",
    "* $n=1$: $\\textit{row vector}$\n",
    "* $m=1$: $\\textit{column vector}$"
   ]
  },
  {
   "cell_type": "markdown",
   "metadata": {},
   "source": [
    "## Transpose\n",
    "\n",
    "The transpose of a matrix $\\textbf{A}$ is written $\\textbf{A}^T$ and defined as:\n",
    "$$\n",
    "\\quad A^T_{ij} = A_{ji}, \\quad \\forall i \\in |[1, n]|, \\forall j \\in |[1, m]|\n",
    "$$\n",
    "\n",
    "A matrix is called $\\textit{symmetric}$ if $\\textbf{A}^T=\\textbf{A}$."
   ]
  },
  {
   "cell_type": "markdown",
   "metadata": {},
   "source": [
    "## Addition\n",
    "\n",
    "The sum $\\textbf{C}$ = $\\textbf{A}$ + $\\textbf{B}$ of two matrices of size $n \\times m$ is defined as:\n",
    "$$\n",
    "C_{ij} = A_{ij} + B_{ij}, \\quad \\forall i \\in |[1, n]|, \\forall j \\in |[1, m]|\n",
    "$$"
   ]
  },
  {
   "cell_type": "markdown",
   "metadata": {},
   "source": [
    "## Product\n",
    "\n",
    "The product $\\textbf{C}$=$\\textbf{AB}$ of an $n \\times p$ matrix with a $p x m$ matrix is an $n \\times m$ matrix defined as:\n",
    "    \n",
    "$$\n",
    "C_{ij} = \\sum_{k=1}^p A_{ik}B_{kj} \\forall i \\in |[1, n]|, \\forall j \\in |[1, m]|\n",
    "$$\n",
    "\n",
    "Warnings:\n",
    "* Mind the matrix sizes!\n",
    "* In general, product is not commutative! But it is associative and distributive over addition."
   ]
  },
  {
   "cell_type": "markdown",
   "metadata": {},
   "source": [
    "#### Example\n",
    "\n",
    "Compute the product of $\\textbf{A}$ with $\\textbf{B}$ defined as follows:\n",
    "$$\n",
    "\\textbf{A} = \n",
    "\\begin{bmatrix}\n",
    "1 & 2 & 3 \\\\\n",
    "4 & 5 & 6\n",
    "\\end{bmatrix}\n",
    "\\quad and \\quad \\textbf{B} = \n",
    "\\begin{bmatrix}\n",
    "1 & 2  \\\\\n",
    "4 & 5 \\\\\n",
    "7 & 8 \n",
    "\\end{bmatrix}\n",
    "$$\n",
    "(we will do it manually in class)\n",
    "\n",
    "With numpy:"
   ]
  },
  {
   "cell_type": "code",
   "execution_count": 3,
   "metadata": {},
   "outputs": [
    {
     "data": {
      "text/plain": [
       "array([[30, 36],\n",
       "       [66, 81]])"
      ]
     },
     "execution_count": 3,
     "metadata": {},
     "output_type": "execute_result"
    }
   ],
   "source": [
    "from numpy import array\n",
    "from numpy import dot\n",
    "\n",
    "a = array([[1, 2, 3],[4, 5, 6]])\n",
    "b = array([[1,2],[4,5],[7,8]])\n",
    "dot(a,b) # note the expression of the matrix product as a dot product between rows of A and columns of B"
   ]
  },
  {
   "cell_type": "markdown",
   "metadata": {},
   "source": [
    "### Exercise\n",
    "\n",
    "Write a Python program that computes the product of two matrices.\n",
    "\n",
    "Solution:"
   ]
  },
  {
   "cell_type": "code",
   "execution_count": 12,
   "metadata": {},
   "outputs": [],
   "source": [
    "from numpy import zeros\n",
    "def product(a, b):\n",
    "    c = zeros((len(a), len(b[0])))\n",
    "    for i in range(len(a)):\n",
    "        for j in range(len(b[0])):\n",
    "            c[i, j] = dot(a[i],b[:, j])\n",
    "    return c\n",
    "            "
   ]
  },
  {
   "cell_type": "code",
   "execution_count": 13,
   "metadata": {},
   "outputs": [
    {
     "data": {
      "text/plain": [
       "array([[30., 36.],\n",
       "       [66., 81.]])"
      ]
     },
     "execution_count": 13,
     "metadata": {},
     "output_type": "execute_result"
    }
   ],
   "source": [
    "product(a, b)"
   ]
  },
  {
   "cell_type": "markdown",
   "metadata": {},
   "source": [
    "### Identity Matrix\n",
    "\n",
    "The identity matrix of size $n$ is a square matrix with $1$s on its diagonal and $0$s everywhere else:\n",
    "$$\n",
    "\\textbf{I_n}=\n",
    "\\begin{bmatrix}\n",
    "1 & 0 & 0 & \\ldots & 0 \\\\\n",
    "0 & 1 & 0 & \\ldots &0 \\\\\n",
    "0 & 0 & 1 & \\ldots & 0 \\\\\n",
    "\\ldots \\\\\n",
    "0 & 0 & 0 & \\ldots & 1\n",
    "\\end{bmatrix}\n",
    "$$\n",
    "\n",
    "It verifies $\\textbf{AI} = \\textbf{IA} = \\textbf{A}$ for every square matrix $\\textbf{A}$ of size $n$."
   ]
  },
  {
   "cell_type": "markdown",
   "metadata": {},
   "source": []
  },
  {
   "cell_type": "markdown",
   "metadata": {},
   "source": [
    "### Determinant of a Matrix\n",
    "\n",
    "The determinant of a 2x2 matrix is defined as:\n",
    "\n",
    "$$\n",
    "\\mathrm{det}(\\textbf{A}) = A_{11}A_{22}-A_{12}A_{21}\n",
    "$$\n",
    "\n",
    "The determinant of a nxn matrix is defined recursively, $\\forall i \\leq n$: \n",
    "\n",
    "$$\n",
    "\\mathrm{det}(\\textbf{A}) = \\sum_{k=1}^n(-1)^{k+1}A_{ik}M_{ik}\n",
    "$$\n",
    "\n",
    "This expression is called the Laplace developement of the determinant.\n",
    "\n",
    "The following function computes the determinant of a matrix defined in a numpy array."
   ]
  },
  {
   "cell_type": "code",
   "execution_count": 14,
   "metadata": {},
   "outputs": [],
   "source": [
    "from numpy import array\n",
    "from numpy import zeros\n",
    "\n",
    "def determinant(a):\n",
    "    # Check that a is square and of size at least 2\n",
    "    assert(len(a)>=2)\n",
    "    assert(all(len(row) == len(a) for row in a))\n",
    "    # Case n=2\n",
    "    if len(a) == 2:\n",
    "        return a[0,0]*a[1,1]-a[0,1]*a[1,0]\n",
    "    # Other cases\n",
    "    det = 0\n",
    "    n = len(a)\n",
    "    for k in range(n): # from 0 to n-1\n",
    "        # Build Mik\n",
    "        m = zeros((n-1,n-1))\n",
    "        i = 0 # could be any int between 0 and n-1\n",
    "        for l in range(0, n):\n",
    "            if l == i: # skip row i\n",
    "                continue\n",
    "            for j in range(n-1):\n",
    "                if j < k:\n",
    "                    m[l-1,j] = a[l,j]\n",
    "                else:\n",
    "                    m[l-1,j] = a[l,j+1]\n",
    "        det += (-1)**(k)*a[i,k]*determinant(m)\n",
    "    return det\n"
   ]
  },
  {
   "cell_type": "markdown",
   "metadata": {},
   "source": [
    "If A is singular, the system has no solution or an infinite number of solutions."
   ]
  },
  {
   "cell_type": "markdown",
   "metadata": {},
   "source": [
    "#### Example 2.1.1\n",
    "\n",
    "Determine whether the following matrix is singular:\n",
    "\n",
    "$$\n",
    "\\textbf{A}=\n",
    "\\begin{bmatrix}\n",
    "        2.1 & -0.6 & 1.1 \\\\\n",
    "        3.2 & 4.7 & -0.8 \\\\\n",
    "        3.1 & -6.5 & 4.1 \n",
    "    \\end{bmatrix}\n",
    "$$"
   ]
  },
  {
   "cell_type": "markdown",
   "metadata": {},
   "source": [
    "Using our own function:"
   ]
  },
  {
   "cell_type": "code",
   "execution_count": 2,
   "metadata": {},
   "outputs": [
    {
     "data": {
      "text/plain": [
       "-1.4210854715202004e-14"
      ]
     },
     "execution_count": 2,
     "metadata": {},
     "output_type": "execute_result"
    }
   ],
   "source": [
    "a = array([[2.1, -0.6, 1.1], [3.2, 4.7, -0.8], [3.1, -6.5, 4.1]])\n",
    "determinant(a)"
   ]
  },
  {
   "cell_type": "markdown",
   "metadata": {},
   "source": [
    "Using numpy:"
   ]
  },
  {
   "cell_type": "code",
   "execution_count": 3,
   "metadata": {},
   "outputs": [
    {
     "data": {
      "text/plain": [
       "0.0"
      ]
     },
     "execution_count": 3,
     "metadata": {},
     "output_type": "execute_result"
    }
   ],
   "source": [
    "from numpy import linalg\n",
    "linalg.det(a)"
   ]
  },
  {
   "cell_type": "markdown",
   "metadata": {},
   "source": [
    "Since the determinant is zero, the matrix is singular."
   ]
  }
 ],
 "metadata": {
  "kernelspec": {
   "display_name": "Python 3",
   "language": "python",
   "name": "python3"
  },
  "language_info": {
   "codemirror_mode": {
    "name": "ipython",
    "version": 3
   },
   "file_extension": ".py",
   "mimetype": "text/x-python",
   "name": "python",
   "nbconvert_exporter": "python",
   "pygments_lexer": "ipython3",
   "version": "3.6.6"
  }
 },
 "nbformat": 4,
 "nbformat_minor": 2
}
