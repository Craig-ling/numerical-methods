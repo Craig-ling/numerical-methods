{
 "cells": [
  {
   "cell_type": "markdown",
   "metadata": {},
   "source": [
    "Important note: the solution below is here to help you verify your solution. You are supposed to be able to do this manually and obtain exact values, not numerical approximations. The exercises will be resolved manually during the tutorial."
   ]
  },
  {
   "cell_type": "markdown",
   "metadata": {},
   "source": [
    "## Exercice 1: Singular, ill-conditioned or well-conditioned"
   ]
  },
  {
   "cell_type": "code",
   "execution_count": 2,
   "metadata": {},
   "outputs": [
    {
     "name": "stdout",
     "output_type": "stream",
     "text": [
      "0.0\n"
     ]
    }
   ],
   "source": [
    "from numpy import array\n",
    "from numpy.linalg import det\n",
    "a = array([[1, 2, 3], [4, 5, 6], [7, 8, 9]])\n",
    "print(det(a)) # a is singular"
   ]
  },
  {
   "cell_type": "code",
   "execution_count": 3,
   "metadata": {},
   "outputs": [
    {
     "name": "stdout",
     "output_type": "stream",
     "text": [
      "13.000000000000005\n"
     ]
    }
   ],
   "source": [
    "b = array([[2, -2, 1], [1, 0, -1], [4, 1, 1]])\n",
    "print(det(b)) # b is well-conditioned"
   ]
  },
  {
   "cell_type": "code",
   "execution_count": 4,
   "metadata": {},
   "outputs": [
    {
     "name": "stdout",
     "output_type": "stream",
     "text": [
      "0.0006000000000018899\n"
     ]
    }
   ],
   "source": [
    "c = array([[1, 2.0001, 3], [4, 5, 6], [7, 8, 9]])\n",
    "print(det(c)) # c is ill-conditioned"
   ]
  },
  {
   "cell_type": "markdown",
   "metadata": {},
   "source": [
    "## Exercice 2: LU decomposition"
   ]
  },
  {
   "cell_type": "code",
   "execution_count": 12,
   "metadata": {},
   "outputs": [
    {
     "name": "stdout",
     "output_type": "stream",
     "text": [
      "L=[[1.  0.  0. ]\n",
      " [0.5 1.  0. ]\n",
      " [2.  5.  1. ]]\n",
      "U=[[ 2.  -2.   1. ]\n",
      " [ 0.   1.  -1.5]\n",
      " [ 0.   0.   6.5]]\n"
     ]
    },
    {
     "data": {
      "text/plain": [
       "array([[ 2., -2.,  1.],\n",
       "       [ 1.,  0., -1.],\n",
       "       [ 4.,  1.,  1.]])"
      ]
     },
     "execution_count": 12,
     "metadata": {},
     "output_type": "execute_result"
    }
   ],
   "source": [
    "from numpy import array, dot\n",
    "a = array([[2, -2, 1], [1, 0, -1], [4, 1, 1]])\n",
    "u = array([[2, -2, 1], [0, 1, -3/2], [0, 0, 13/2]])\n",
    "l = array([[1, 0, 0], [1/2, 1, 0], [2, 5, 1]])\n",
    "print(\"L={}\".format(l))\n",
    "print(\"U={}\".format(u))\n",
    "# Verification\n",
    "dot(l, u)"
   ]
  },
  {
   "cell_type": "markdown",
   "metadata": {},
   "source": [
    "## Exercice 3: Resolution using LU decomposition"
   ]
  },
  {
   "cell_type": "code",
   "execution_count": 14,
   "metadata": {},
   "outputs": [
    {
     "data": {
      "text/plain": [
       "array([ 0.53846154, -0.69230769, -1.46153846])"
      ]
     },
     "execution_count": 14,
     "metadata": {},
     "output_type": "execute_result"
    }
   ],
   "source": [
    "b = array([1, 2, 0])\n",
    "from numpy.linalg import solve\n",
    "solve(a, b)"
   ]
  },
  {
   "cell_type": "markdown",
   "metadata": {},
   "source": [
    "## Exercice 4: Gauss elimination"
   ]
  },
  {
   "cell_type": "code",
   "execution_count": 20,
   "metadata": {},
   "outputs": [
    {
     "data": {
      "text/plain": [
       "array([[ 3.17948718, -1.15384615],\n",
       "       [-0.79487179,  0.53846154],\n",
       "       [-0.05128205,  0.61538462]])"
      ]
     },
     "execution_count": 20,
     "metadata": {},
     "output_type": "execute_result"
    }
   ],
   "source": [
    "from numpy import array, transpose\n",
    "from numpy.linalg import solve\n",
    "a = array([[0, 1, 4], [2, 0, 7], [1, 4, 0]])\n",
    "b = transpose(array([[-1, 6, 0], [3, 2, 1]]))\n",
    "solve(a, b)"
   ]
  },
  {
   "cell_type": "markdown",
   "metadata": {},
   "source": [
    "## Exercice 5: Condition number\n",
    "\n",
    "cond(A) = $||A||_\\infty||A^{-1}||_\\infty$"
   ]
  },
  {
   "cell_type": "code",
   "execution_count": 33,
   "metadata": {},
   "outputs": [
    {
     "data": {
      "text/plain": [
       "5.999999999999999"
      ]
     },
     "execution_count": 33,
     "metadata": {},
     "output_type": "execute_result"
    }
   ],
   "source": [
    "from numpy import array, inf\n",
    "a = array([[2, -2, 1], [1, 0, -1], [4, 1, 1]])\n",
    "from numpy.linalg import cond\n",
    "cond(a, p=inf)"
   ]
  },
  {
   "cell_type": "markdown",
   "metadata": {},
   "source": [
    "## Exercice 6: Matrix inversion"
   ]
  },
  {
   "cell_type": "code",
   "execution_count": 23,
   "metadata": {},
   "outputs": [
    {
     "data": {
      "text/plain": [
       "array([[ 0.375     ,  0.29166667, -0.08333333],\n",
       "       [-0.375     ,  0.70833333,  0.08333333],\n",
       "       [ 0.125     , -0.79166667,  0.08333333]])"
      ]
     },
     "execution_count": 23,
     "metadata": {},
     "output_type": "execute_result"
    }
   ],
   "source": [
    "from numpy import array\n",
    "from numpy.linalg import inv\n",
    "a = array([[3, 1, 2],[1, 1, 0],[5, 8, 9]])\n",
    "inv(a)"
   ]
  },
  {
   "cell_type": "markdown",
   "metadata": {},
   "source": [
    "## Exercice 7: Cholesky decomposition"
   ]
  },
  {
   "cell_type": "code",
   "execution_count": 29,
   "metadata": {},
   "outputs": [
    {
     "data": {
      "text/plain": [
       "array([[1., 0., 0.],\n",
       "       [1., 1., 0.],\n",
       "       [1., 1., 1.]])"
      ]
     },
     "execution_count": 29,
     "metadata": {},
     "output_type": "execute_result"
    }
   ],
   "source": [
    "from numpy import array\n",
    "from numpy.linalg import cholesky\n",
    "a = array([[1, 1, 1], [1, 2, 2], [1, 2, 3]])\n",
    "inv(a)\n",
    "cholesky(a)"
   ]
  },
  {
   "cell_type": "code",
   "execution_count": null,
   "metadata": {},
   "outputs": [],
   "source": []
  }
 ],
 "metadata": {
  "kernelspec": {
   "display_name": "Python 2",
   "language": "python",
   "name": "python2"
  },
  "language_info": {
   "codemirror_mode": {
    "name": "ipython",
    "version": 2
   },
   "file_extension": ".py",
   "mimetype": "text/x-python",
   "name": "python",
   "nbconvert_exporter": "python",
   "pygments_lexer": "ipython2",
   "version": "2.7.15"
  }
 },
 "nbformat": 4,
 "nbformat_minor": 2
}
