{
 "cells": [
  {
   "cell_type": "markdown",
   "metadata": {},
   "source": [
    "# Tutorial 1: Resolution of linear systems"
   ]
  },
  {
   "cell_type": "markdown",
   "metadata": {},
   "source": [
    "## Exercise 1: Determinant\n",
    "By evaluating the determinant, classify the following matrices as singular, ill-conditioned, or well-conditioned:\n",
    "\n",
    "$$\n",
    "\\textbf{A} = \\begin{bmatrix}\n",
    "1 & 2 & 3 \\\\\n",
    "4 & 5 & 6 \\\\\n",
    "7 & 8 & 9\n",
    "\\end{bmatrix}\n",
    "\\quad \n",
    "\\textbf{B} = \\begin{bmatrix}\n",
    "2 & -2 & 1 \\\\\n",
    "1 & 0 & -1 \\\\\n",
    "4 & 1 & 1\n",
    "\\end{bmatrix}\n",
    "\\quad\n",
    "\\textbf{C} = \\begin{bmatrix}\n",
    "1 & 2.0001 & 3 \\\\\n",
    "4 & 5 & 6 \\\\\n",
    "7 & 8 & 9\n",
    "\\end{bmatrix}\n",
    "$$\n",
    "\n"
   ]
  },
  {
   "cell_type": "markdown",
   "metadata": {},
   "source": [
    "## Exercise 2: LU decomposition (Dolittle)\n",
    "Find Dolittle's LU decomposition of $\\textbf{A}$:\n",
    "$$\n",
    "\\textbf{A} = \\begin{bmatrix}\n",
    "2 & -2 & 1 \\\\\n",
    "1 & 0 & -1 \\\\\n",
    "4 & 1 & 1\n",
    "\\end{bmatrix}\n",
    "$$"
   ]
  },
  {
   "cell_type": "markdown",
   "metadata": {},
   "source": [
    "## Exercise 3: Resolution from LU decomposition\n",
    "Using the LU decomposition of $\\textbf{A}$ found previously, solve $\\textbf{Ax}=\\textbf{b}$, where:\n",
    "$$\n",
    "\\textbf{b}=\\begin{bmatrix}\n",
    "1\\\\\n",
    "2\\\\\n",
    "0\n",
    "\\end{bmatrix}\n",
    "$$"
   ]
  },
  {
   "cell_type": "markdown",
   "metadata": {},
   "source": [
    "## Exercise 4: Gauss elimination\n",
    "\n",
    "Use Gauss elimination to solve $\\textbf{AX}=\\textbf{B}$, where:\n",
    "$$\n",
    "\\textbf{A}=\\begin{bmatrix}\n",
    "0 & 1 & 4 \\\\\n",
    "2 & 0 & 7 \\\\\n",
    "1 & 4 & 0\n",
    "\\end{bmatrix}\n",
    "\\quad\n",
    "\\textbf{B}=\\begin{bmatrix}\n",
    "-1 & 3\\\\\n",
    "6 & 2\\\\\n",
    "0 & 1\n",
    "\\end{bmatrix}\n",
    "$$"
   ]
  },
  {
   "cell_type": "markdown",
   "metadata": {},
   "source": [
    "## Exercise 5: Condition number\n",
    "\n",
    "Compute the condition number of $\\textbf{A}$ using the infinity norm:\n",
    "$$\n",
    "\\textbf{A} = \\begin{bmatrix}\n",
    "2 & -2 & 1 \\\\\n",
    "1 & 0 & -1\\\\\n",
    "4 & 1 & 1\n",
    "\\end{bmatrix}\n",
    "$$"
   ]
  },
  {
   "cell_type": "markdown",
   "metadata": {},
   "source": [
    "## Exercice 6: Matrix Inversion\n",
    "\n",
    "Invert the following matrix:\n",
    "\n",
    "$$\n",
    "\\textbf{A} = \\begin{bmatrix}\n",
    "3 & 1 & 2 \\\\\n",
    "1 & 1 & 0\\\\\n",
    "5 & 8 & 9\n",
    "\\end{bmatrix}\n",
    "$$"
   ]
  },
  {
   "cell_type": "markdown",
   "metadata": {},
   "source": [
    "## Exercice 7: LU decomposition (Cholesky)\n",
    "\n",
    "Find the Cholesky decomposition of $\\textbf{A}$:\n",
    "$$\n",
    "\\textbf{A} = \\begin{bmatrix}\n",
    "1 & 1 & 1 \\\\\n",
    "1 & 2 & 2\\\\\n",
    "1 & 2 & 3\n",
    "\\end{bmatrix}\n",
    "$$"
   ]
  },
  {
   "cell_type": "code",
   "execution_count": null,
   "metadata": {},
   "outputs": [],
   "source": []
  }
 ],
 "metadata": {
  "kernelspec": {
   "display_name": "Python 3",
   "language": "python",
   "name": "python3"
  },
  "language_info": {
   "codemirror_mode": {
    "name": "ipython",
    "version": 3
   },
   "file_extension": ".py",
   "mimetype": "text/x-python",
   "name": "python",
   "nbconvert_exporter": "python",
   "pygments_lexer": "ipython3",
   "version": "3.6.6"
  }
 },
 "nbformat": 4,
 "nbformat_minor": 2
}
