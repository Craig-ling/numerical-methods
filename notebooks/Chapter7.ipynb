{
 "cells": [
  {
   "cell_type": "markdown",
   "metadata": {},
   "source": [
    "# Chapter 7: Initial Value Problems\n",
    "\n",
    "Solve $\\textbf{y}' = \\textbf{F}(x, \\textbf{y})$ with $\\textbf{y}(a)=\\alpha$"
   ]
  },
  {
   "cell_type": "markdown",
   "metadata": {},
   "source": [
    "## Introduction\n",
    "\n",
    "A *first-order* differential equation is written as:\n",
    "\n",
    "$$\n",
    "y' = f(x, y),\n",
    "$$\n",
    "where $y'=\\frac{dy}{dx}$ and $f(x, y)$ is a given function.\n",
    "\n",
    "The solution of this equation includes an arbitrary integration constant, which is given by the *auxiliary condition* specified at $x=a$:\n",
    "$$\n",
    "y(a) = \\alpha\n",
    "$$\n",
    "\n",
    "### ODE of order n\n",
    "\n",
    "An **ordinary differential equation (ODE) of order $n$** is written as:\n",
    "$$\n",
    "y^{(n)} = f(x, y, y', y'', \\ldots, y^{(n-1)})\n",
    "$$\n",
    "It can always be transformed into n first-order equations using:\n",
    "$$\n",
    "y_0 = y \\quad ; \\quad y_1 = y' \\quad ; \\quad y_2 = y'' \\quad ; \\quad \\ldots \\quad ; \\quad y_{n-1} = y^{(n-1)}\n",
    "$$\n",
    "The equivalent first-order equations are:\n",
    "$$\n",
    "y_0' = y_1 \\quad ; \\quad y_1'=y_2 \\quad ; \\quad y_2'=y_3 \\quad ; \\quad \\ldots \\quad ; \\quad y_n' = f(x, y_0, y_1, \\ldots, y_{n-1}) \n",
    "$$"
   ]
  },
  {
   "cell_type": "markdown",
   "metadata": {},
   "source": [
    "We now need $n$ auxilary conditions. If the conditions are specified at the same value of $x$, the problem is called an **initial value problem**:\n",
    "$$\n",
    "y_0(a) = \\alpha_0 \\quad ; \\quad y_1(a) = \\alpha_1 \\quad ; \\quad y_2(a) = \\alpha_2 \\quad ; \\quad \\ldots \\quad ; \\quad y_{n-1}(a) = \\alpha_{n-1}\n",
    "$$\n",
    "Otherwise, the problem is called a *boundary value problem* (see next Chapter). "
   ]
  },
  {
   "cell_type": "markdown",
   "metadata": {},
   "source": [
    "An ODE of order $n$ is written as follows in vector form:\n",
    "$$\n",
    "\\textbf{y}' = \\textbf{F}(x, \\textbf{y}) \\quad ; \\quad \\textbf{y}(a) = \\pmb{\\alpha}\n",
    "$$\n",
    "where\n",
    "$$\n",
    "\\textbf{F}(x, \\textbf{y}) = \\begin{bmatrix}\n",
    "y_1 \\\\\n",
    "y_2 \\\\\n",
    "\\ldots \\\\\n",
    "f(x, \\textbf{y})\n",
    "\\end{bmatrix}\n",
    "$$"
   ]
  },
  {
   "cell_type": "markdown",
   "metadata": {},
   "source": [
    "### Example 7.2 (first part)\n",
    "\n",
    "Formulate the following initial value problem in the form $\\textbf{y}'=\\textbf{F}(x, \\textbf{y})$:\n",
    "$$\n",
    "y'' = -0.1y'-x \\quad ; \\quad y(0) = 0 \\quad y'(0) = 1\n",
    "$$"
   ]
  },
  {
   "cell_type": "markdown",
   "metadata": {},
   "source": [
    "## Euler's Method\n",
    "\n",
    "This method is based on the truncated Taylor series of $\\textbf{y}$ about x:\n",
    "$$\n",
    "\\textbf{y}(x+h) \\approx \\textbf{y}(x) + \\textbf{y}'(x)h \\quad (\\textbf{1})\n",
    "$$\n",
    "which gives:\n",
    "$$\n",
    "\\textbf{y}(x+h) \\approx \\textbf{y}(x) + \\textbf{F}(x, \\textbf{y})h\n",
    "$$\n",
    "\n",
    "This equation can be used to compute $\\textbf{y}$ **incrementally** from $x=a$ to any $x$ by steps of $h$.\n",
    "\n",
    "### Illustration"
   ]
  },
  {
   "cell_type": "code",
   "execution_count": 137,
   "metadata": {},
   "outputs": [
    {
     "data": {
      "image/png": "[encoded data removed]",
      "text/plain": [
       "<Figure size 432x288 with 1 Axes>"
      ]
     },
     "metadata": {},
     "output_type": "display_data"
    }
   ],
   "source": [
    "from matplotlib import pyplot as plt\n",
    "from numpy import arange, exp\n",
    "x = arange(0, 3.1, 0.1)\n",
    "plt.plot(x, exp(x))\n",
    "plt.annotate(s='$k_0$', xy=(0, 1), xytext=(1, 2), arrowprops=dict(arrowstyle='<-', color='red'))\n",
    "plt.plot([0, 3], [1, 4], '--', color='orange')\n",
    "plt.plot([3, 3], [0, 4], '--', color='orange')\n",
    "plt.annotate(\"y(x+h)\", xy=(3, 4.5), color='orange')\n",
    "plt.plot([3], [4], 'o')\n",
    "plt.xticks([0, 3], [\"x\", \"x+h\"])\n",
    "plt.yticks([])\n",
    "plt.ylim(0, exp(3.1))\n",
    "plt.show()"
   ]
  },
  {
   "cell_type": "markdown",
   "metadata": {},
   "source": [
    "### Implementation"
   ]
  },
  {
   "cell_type": "code",
   "execution_count": 3,
   "metadata": {},
   "outputs": [],
   "source": [
    "from numpy import array\n",
    "def euler(F, x0, y0, x, h):\n",
    "    '''\n",
    "    Return y(x) given the following initial value problem:\n",
    "    y' = F(x, y)\n",
    "    y(x0) = y0 # initial conditions\n",
    "    h is the increment of x used in integration\n",
    "    F = [y'[0], y'[1], ..., y'[n-1]]\n",
    "    y = [y[0], y[1], ..., y[n-1]]\n",
    "    '''\n",
    "    X = [] # will store the value of x0 at each iteration\n",
    "    Y = [] # will store the value of y0 at each iteration\n",
    "    while x0 < x:\n",
    "        h = min(h, x-x0)\n",
    "        y0 = y0 + h*F(x0, y0)\n",
    "        x0 += h\n",
    "        X.append(x0)\n",
    "        Y.append(y0)\n",
    "    return array(X), array(Y)"
   ]
  },
  {
   "cell_type": "markdown",
   "metadata": {},
   "source": [
    "### Example 7.1\n",
    "\n",
    "Integrate the initial value problem:\n",
    "$$\n",
    "y' + 4y = x^2 \\quad y(0) = 1\n",
    "$$\n",
    "in steps of $h=0.01$ from $x=0$ to $0.03$. "
   ]
  },
  {
   "cell_type": "code",
   "execution_count": 6,
   "metadata": {},
   "outputs": [
    {
     "data": {
      "image/png": "[encoded data removed]",
      "text/plain": [
       "<Figure size 432x288 with 1 Axes>"
      ]
     },
     "metadata": {},
     "output_type": "display_data"
    }
   ],
   "source": [
    "def F(x, y):\n",
    "    return x**2 - 4*y\n",
    "\n",
    "X, Y = euler(F, 0, 1, 0.03, 0.01)\n",
    "from matplotlib import pyplot as plt\n",
    "plt.plot(X, Y, '+')\n",
    "plt.show()"
   ]
  },
  {
   "cell_type": "markdown",
   "metadata": {},
   "source": [
    "### Example 7.2\n",
    "\n",
    "Integrate the initial value problem:\n",
    "$$\n",
    "y'' = -0.1y'-x \\quad y(0) = 0 \\quad y'(0) = 1\n",
    "$$\n",
    "from $x=0$ to $2$ using $h=0.05$. Plot the computed $y$ with the analytical solution:\n",
    "$$\n",
    "y = 100x-5x^2+990(e^{-0.1x}-1)\n",
    "$$"
   ]
  },
  {
   "cell_type": "code",
   "execution_count": 17,
   "metadata": {},
   "outputs": [
    {
     "data": {
      "image/png": "[encoded data removed]",
      "text/plain": [
       "<Figure size 432x288 with 1 Axes>"
      ]
     },
     "metadata": {},
     "output_type": "display_data"
    }
   ],
   "source": [
    "from numpy import array, exp\n",
    "def F(x, y):\n",
    "    return array([\n",
    "                    y[1],\n",
    "                    -0.1*y[1]-x\n",
    "                ])\n",
    "\n",
    "X, Y = euler(F, 0, array([0, 1]), 2, 0.05)\n",
    "from matplotlib import pyplot as plt\n",
    "plt.plot(X, Y[:,0], '+',\n",
    "         X, 100*X-5*X**2+990*(exp(-0.1*X)-1))\n",
    "plt.show()"
   ]
  },
  {
   "cell_type": "markdown",
   "metadata": {},
   "source": [
    "### Error Analysis\n",
    "\n",
    "The truncation error $\\textbf{E}$ in equation $(\\textbf{1})$ is in $\\mathcal{O}(h^2)$. It is also proportional to $\\textbf{y}''$, which explains the plot above.\n",
    "\n",
    "The number of iterations in Euler's method is $n=\\frac{x-x_0}{h}$.\n",
    "\n",
    "$\\Rightarrow$ Accumulated error $\\textbf{E}_{acc}=\\frac{x-x_0}{h}\\textbf{E}=\\mathcal{O}(h)$."
   ]
  },
  {
   "cell_type": "markdown",
   "metadata": {},
   "source": [
    "## Second-Order Runge-Kutta Method\n",
    "\n",
    "The second-order Runge-Kutta method is obtained by the following iteration:\n",
    "$$\n",
    "\\textbf{y}(x+h) = \\textbf{y}(x) + h\\textbf{F}\\left[x+\\frac{h}{2}, \\textbf{y}\\left(x+\\frac{h}{2}\\right)\\right]\n",
    "$$\n",
    "where:\n",
    "$$\n",
    "\\textbf{y}\\left(x+\\frac{h}{2}\\right) = \\textbf{y}(x) + \\frac{h}{2}\\textbf{F}(x, \\textbf{y})\n",
    "$$\n",
    "It gives:\n",
    "$$\n",
    "\\textbf{y}(x+h) = \\textbf{y}(x) + h\\textbf{F}\\left[x+\\frac{h}{2}, \\textbf{y}+\\frac{h}{2}\\textbf{F}(x, \\textbf{y})\\right]\n",
    "$$\n",
    "\n",
    "### Illustration"
   ]
  },
  {
   "cell_type": "markdown",
   "metadata": {},
   "source": [
    "The following notations are often used:\n",
    "\n",
    "* $\\textbf{k}_0 = \\textbf{F}(x, \\textbf{y})$: derivative of $\\textbf{y}'$ at $x$.\n",
    "* $\\textbf{k}_1 = \\textbf{F}\\left(x+\\frac{h}{2}, \\textbf{y}+\\frac{h}{2}\\textbf{k}_0\\right)$: derivative of $\\textbf{y}'$ at $x+\\frac{h}{2}$, where $\\textbf{y}\\left(x+\\frac{h}{2}\\right)$ is estimated from $\\textbf{y}(x)$ using a linear extrapolation of slope $\\textbf{k}_0$.\n",
    "* $\\textbf{y}(x+h) = y(x) + h\\textbf{k}_1$\n",
    "\n",
    "### Illustration"
   ]
  },
  {
   "cell_type": "code",
   "execution_count": 229,
   "metadata": {},
   "outputs": [
    {
     "data": {
      "image/png": "[encoded data removed]",
      "text/plain": [
       "<Figure size 432x288 with 1 Axes>"
      ]
     },
     "metadata": {},
     "output_type": "display_data"
    }
   ],
   "source": [
    "from matplotlib import pyplot as plt\n",
    "from numpy import arange, exp\n",
    "x = arange(0, 3.1, 0.1)\n",
    "plt.plot(x, exp(x))\n",
    "\n",
    "x0 = 0\n",
    "h = 3\n",
    "y = exp(0)\n",
    "k = y\n",
    "plt.annotate(s='$k_0$', xy=(x0, y), xytext=(x0+1, y + k), arrowprops=dict(arrowstyle='<-', color='red'))\n",
    "plt.plot([x0, x0+h/2], [y, y + h/2*k], '--', color='orange')\n",
    "plt.plot([h/2, h/2], [0, y + h/2*k], '--', color='orange')\n",
    "plt.plot([h/2], [y + h/2*k], 'o', color='orange')\n",
    "plt.annotate(\"y(x+h/2)\", xy=(h/2, y + h/2*k+0.5), color='orange')\n",
    "\n",
    "x0 = x0+h/2\n",
    "y = y + h/2*k\n",
    "k = y\n",
    "plt.annotate(s='$k_1$', xy=(x0, y), xytext=(x0+1, y + k), arrowprops=dict(arrowstyle='<-', color='green'))\n",
    "plt.plot([0, h], [exp(0), exp(0) + h*k], '--', color='orange')\n",
    "plt.plot([h, h], [0, exp(0) + h*k], '--', color='orange')\n",
    "plt.plot([h], [exp(0) + h*k], 'o', color='orange')\n",
    "plt.annotate(\"y(x+h)\", xy=(h, exp(0) + h*k + 0.5), color='orange')\n",
    "plt.annotate(s='', xy=(0, exp(0)), xytext=(1, exp(0) + k), arrowprops=dict(arrowstyle='<-', color='green'))\n",
    "\n",
    "plt.xticks([0, 1.5, 3], [\"x\", \"x+h/2\", \"x+h\"])\n",
    "plt.yticks([])\n",
    "plt.ylim(0, exp(3.1))\n",
    "plt.show()"
   ]
  },
  {
   "cell_type": "markdown",
   "metadata": {},
   "source": [
    "### Notes\n",
    "* The textbook uses $\\textbf{K}_i$, with $\\textbf{K}_i=h\\textbf{k}_i$\n",
    "* Other Runge-Kutta integration methods exist, where $k_1$ is not taken at $\\frac{h}{2}$, and $\\textbf{y}(x+h)$ involves a linear combination of $k_0$ and $k_1$. The one presented here is called the *modified Euler's method*. No second-order Runge-Kutta formula has superiority over the other ones."
   ]
  },
  {
   "cell_type": "markdown",
   "metadata": {},
   "source": [
    "### Implementation"
   ]
  },
  {
   "cell_type": "code",
   "execution_count": 236,
   "metadata": {},
   "outputs": [],
   "source": [
    "from numpy import array\n",
    "def runge_kutta_2(F, x0, y0, x, h):\n",
    "    X = []\n",
    "    Y = []\n",
    "    X.append(x0)\n",
    "    Y.append(y0)\n",
    "    while x0 < x:\n",
    "        k0 = F(x0, y0)\n",
    "        k1 = F(x0+h/2, y0 + h/2*k0)\n",
    "        y0 = y0 + h*k1\n",
    "        x0 += h\n",
    "        X.append(x0)\n",
    "        Y.append(y0)\n",
    "    return array(X), array(Y)"
   ]
  },
  {
   "cell_type": "markdown",
   "metadata": {},
   "source": [
    "### Illustration on previous example"
   ]
  },
  {
   "cell_type": "code",
   "execution_count": 238,
   "metadata": {},
   "outputs": [
    {
     "data": {
      "image/png": "[encoded data removed]",
      "text/plain": [
       "<Figure size 432x288 with 1 Axes>"
      ]
     },
     "metadata": {},
     "output_type": "display_data"
    }
   ],
   "source": [
    "from numpy import array, exp\n",
    "\n",
    "def F(x, y):\n",
    "    return array([\n",
    "                    y[1],\n",
    "                    -0.1*y[1]-x\n",
    "                ])\n",
    "\n",
    "X, Y = euler(F, 0, array([0, 1]), 2, 0.05)\n",
    "X1, Y1 = runge_kutta_2(F, 0, array([0, 1]), 2, 0.05)\n",
    "from matplotlib import pyplot as plt\n",
    "plt.plot(X, Y[:,0], '+',\n",
    "         X1, Y1[:,0], '.',\n",
    "         X, 100*X-5*X**2+990*(exp(-0.1*X)-1))\n",
    "plt.legend(['Euler $\\mathcal{O}(h)$',\n",
    "           'Runge-Kutta $\\mathcal{O}(h^2)$',\n",
    "           'Solution'])\n",
    "plt.show()"
   ]
  },
  {
   "cell_type": "markdown",
   "metadata": {},
   "source": [
    "### Example 7.3"
   ]
  },
  {
   "cell_type": "markdown",
   "metadata": {},
   "source": [
    "## Fourth-order Runge-Kutta method\n",
    "\n"
   ]
  },
  {
   "cell_type": "markdown",
   "metadata": {},
   "source": [
    "As in the second-order expression, $\\textbf{y}(x+h)$ is estimated from a linear extrapolation of $\\textbf{y}(x+h)$:\n",
    "$$\n",
    "\\textbf{y}(x+h) = \\textbf{y}(x) + h \\frac{1}{6}\\left(\\textbf{k}_0 + 2\\textbf{k}_2 + 2\\textbf{k}_2 + \\textbf{k}_3\\right)\n",
    "$$\n",
    "\n",
    "The main difference with the second-order expression is that the slope used in the linear extrapolation is now a weighted average of 4 slopes: \n",
    "* $\\textbf{k}_1$ and $\\textbf{k}_2$, are estimated at $x+\\frac{h}{2}$,\n",
    "* $\\textbf{k}_0$ and $\\textbf{k}_3$ are estimated at the boundaries, $x$ and $x+h$. "
   ]
  },
  {
   "cell_type": "markdown",
   "metadata": {},
   "source": [
    "### Expression of $\\textbf{k}_i$:\n",
    "\n",
    "For $i > 0$, $\\textbf{k}_i$ is estimated as the derivative (image by $\\textbf{F}$) of the linear extrapolation of $\\textbf{y}$ using $\\textbf{k}_{i-1}$. $\\textbf{k}_0$ is given by $\\textbf{F}(x, \\textbf{y})$:\n",
    "* $\\textbf{k}_0$ = $\\textbf{F}(x, \\textbf{y})$\n",
    "* $\\textbf{k}_1$ = $\\textbf{F}\\left(x+\\frac{h}{2}, \\textbf{y} + \\frac{h}{2}\\textbf{k}_0\\right)$\n",
    "* $\\textbf{k}_2$ = $\\textbf{F}\\left(x+\\frac{h}{2}, \\textbf{y} + \\frac{h}{2}\\textbf{k}_1\\right)$\n",
    "* $\\textbf{k}_3$ = $\\textbf{F}\\left(x+h, \\textbf{y} + h\\textbf{k}_2\\right)$\n",
    "\n",
    "### Illustration"
   ]
  },
  {
   "cell_type": "code",
   "execution_count": 239,
   "metadata": {},
   "outputs": [
    {
     "data": {
      "image/png": "[encoded data removed]",
      "text/plain": [
       "<Figure size 432x288 with 1 Axes>"
      ]
     },
     "metadata": {},
     "output_type": "display_data"
    }
   ],
   "source": [
    "from matplotlib import pyplot as plt\n",
    "from math import sqrt\n",
    "from numpy import arange, exp\n",
    "x = arange(0, 3.1, 0.1)\n",
    "plt.plot(x, exp(x))\n",
    "\n",
    "sumk = 0\n",
    "# k0\n",
    "x0 = 0\n",
    "h = 3\n",
    "y = exp(0)\n",
    "k = y\n",
    "sumk += k\n",
    "step = 1 # so that the vector has a unit norm\n",
    "plt.annotate(s='$k_0$', xy=(x0, y), xytext=(x0+step, y + step*k), arrowprops=dict(arrowstyle='<-', color='red'))\n",
    "plt.plot([x0, x0+h/2], [y, y + h/2*k], '--', color='orange')\n",
    "plt.plot([h/2, h/2], [0, y + h/2*k], '--', color='orange')\n",
    "plt.plot([h/2], [y + h/2*k], 'o', color='orange')\n",
    "plt.annotate(\"y(x+h/2)\", xy=(h/2, y + h/2*k+0.5), color='orange')\n",
    "\n",
    "# k1\n",
    "x0 = x0+h/2\n",
    "y = y + h/2*k\n",
    "k = y\n",
    "sumk += 2*k\n",
    "step =  1\n",
    "plt.annotate(s='$k_1$', xy=(x0, y), xytext=(x0+step, y + step*k), arrowprops=dict(arrowstyle='<-', color='green'))\n",
    "plt.plot([0, h/2], [exp(0), exp(0) + h/2*k], '--', color='orange')\n",
    "plt.plot([h/2, h/2], [0, exp(0) + h/2*k], '--', color='orange')\n",
    "plt.plot([h/2], [exp(0) + h/2*k], 'o', color='orange')\n",
    "plt.annotate(\"y(x+h/2)\", xy=(h/2, exp(0) + h/2*k + 0.5), color='orange')\n",
    "plt.annotate(s='', xy=(0, exp(0)), xytext=(step, exp(0) + step*k), arrowprops=dict(arrowstyle='<-', color='green'))\n",
    "\n",
    "# k2\n",
    "x0 = h/2\n",
    "y = exp(0) + h/2*k\n",
    "k = y\n",
    "sumk += 2*k\n",
    "step = 1\n",
    "plt.annotate(s='$k_2$', xy=(x0, y), xytext=(x0+step, y + step*k), arrowprops=dict(arrowstyle='<-', color='blue'))\n",
    "plt.plot([0, h], [exp(0), exp(0) + h*k], '--', color='orange')\n",
    "plt.plot([h, h], [0, exp(0) + h*k], '--', color='orange')\n",
    "plt.plot([h], [exp(0) + h*k], 'o', color='orange')\n",
    "plt.annotate(\"y(x+h)\", xy=(h, exp(0) + h*k + 0.5), color='orange')\n",
    "plt.annotate(s='', xy=(0, exp(0)), xytext=(step, exp(0) + step*k), arrowprops=dict(arrowstyle='<-', color='blue'))\n",
    "\n",
    "# k3\n",
    "x0 = h\n",
    "y = exp(0) + h*k\n",
    "k = y\n",
    "sumk += k\n",
    "step = 1\n",
    "plt.annotate(s='$k_3$', xy=(x0, y), xytext=(x0+step, y + step*k), arrowprops=dict(arrowstyle='<-', color='black'))\n",
    "\n",
    "k=sumk/6\n",
    "plt.annotate(s='$k$', xy=(0, exp(0)), xytext=(1, exp(0) + k), arrowprops=dict(arrowstyle='<-', color='chocolate'))\n",
    "plt.plot([0, h], [exp(0), exp(0) + h*k], '--', color='orange')\n",
    "plt.plot([h, h], [0, exp(0) + h*k], '--', color='orange')\n",
    "plt.plot([h], [exp(0) + h*k], 'o', color='orange')\n",
    "plt.annotate(\"y(x+h)\", xy=(h, exp(0) + h*k + 0.5), color='orange')\n",
    "\n",
    "plt.xticks([0, 1.5, 3], [\"x\", \"x+h/2\", \"x+h\"])\n",
    "plt.yticks([])\n",
    "plt.ylim(0, exp(3.1))\n",
    "plt.show()"
   ]
  },
  {
   "cell_type": "markdown",
   "metadata": {},
   "source": [
    "### Implementation"
   ]
  },
  {
   "cell_type": "code",
   "execution_count": 240,
   "metadata": {},
   "outputs": [],
   "source": [
    "from numpy import array\n",
    "def runge_kutta_4(F, x0, y0, x, h):\n",
    "    X = []\n",
    "    Y = []\n",
    "    X.append(x0)\n",
    "    Y.append(y0)\n",
    "    while x0 < x:\n",
    "        k0 = F(x0, y0)\n",
    "        k1 = F(x0+h/2.0, y0 + h/2.0*k0)\n",
    "        k2 = F(x0 + h/2.0, y0 + h/2*k1)\n",
    "        k3 = F(x0+h, y0+h*k2)\n",
    "        y0 = y0 + h/6.0*(k0+2*k1+2.0*k2+k3)\n",
    "        x0 += h\n",
    "        X.append(x0)\n",
    "        Y.append(y0)\n",
    "    return array(X), array(Y)"
   ]
  },
  {
   "cell_type": "markdown",
   "metadata": {},
   "source": [
    "### Example 7.4"
   ]
  },
  {
   "cell_type": "code",
   "execution_count": 241,
   "metadata": {},
   "outputs": [
    {
     "data": {
      "image/png": "[encoded data removed]",
      "text/plain": [
       "<Figure size 432x288 with 1 Axes>"
      ]
     },
     "metadata": {},
     "output_type": "display_data"
    }
   ],
   "source": [
    "X, Y = euler(F, 0, array([0, 1]), 2, 0.05)\n",
    "X1, Y1 = runge_kutta_2(F, 0, array([0, 1]), 2, 0.2)\n",
    "X2, Y2 = runge_kutta_4(F, 0, array([0.0, 1.0]), 2.0, 0.2)\n",
    "from matplotlib import pyplot as plt\n",
    "plt.plot(X, Y[:,0], '+',\n",
    "         X1, Y1[:,0], '.',\n",
    "         X2, Y2[:,0], 'x',\n",
    "         X, 100.0*X-5.0*X**2+990.0*(exp(-0.1*X)-1.0))\n",
    "plt.legend(['Euler $\\mathcal{O}(h)$',\n",
    "           'Runge-Kutta $\\mathcal{O}(h^2)$',\n",
    "            'Runge-Kutta $\\mathcal{O}(h^4)$',\n",
    "           'Solution'])\n",
    "plt.show()"
   ]
  },
  {
   "cell_type": "markdown",
   "metadata": {},
   "source": [
    "### Example 7.6"
   ]
  },
  {
   "cell_type": "markdown",
   "metadata": {},
   "source": [
    "## Stability and Stiffness"
   ]
  },
  {
   "cell_type": "markdown",
   "metadata": {},
   "source": [
    "### Stability\n",
    "\n",
    "A method is stable if errors do not accumulate catastrophically. A method is unstable if the solution grows very large when the solution does not.\n",
    "\n",
    "Stability is determined by 3 factors:\n",
    "1. The differential equations\n",
    "2. The method of solution\n",
    "3. $h$\n",
    "\n",
    "There is no way to determine the stability beforehand, unless the differential equation is linear.\n",
    "\n",
    "#### Stability of Euler's method\n",
    "\n",
    "Let's consider the following linear problem:\n",
    "$$\n",
    "y' = -\\lambda y \\quad y(0) = \\beta\n",
    "$$\n",
    "The analytical solution of this problem is $y(x)=\\beta e^{-\\lambda x}$"
   ]
  },
  {
   "cell_type": "code",
   "execution_count": 277,
   "metadata": {},
   "outputs": [
    {
     "data": {
      "image/png": "[encoded data removed]",
      "text/plain": [
       "<Figure size 432x288 with 1 Axes>"
      ]
     },
     "metadata": {},
     "output_type": "display_data"
    }
   ],
   "source": [
    "### Illustration\n",
    "\n",
    "lam = 2\n",
    "beta = 1\n",
    "h = 0.7\n",
    "xmax = 15\n",
    "\n",
    "def F(x, y):\n",
    "    return -lam*y\n",
    "\n",
    "X, Y = euler(F, 0, beta, xmax, h)\n",
    "from matplotlib import pyplot as plt\n",
    "from numpy import exp\n",
    "plt.plot(X, Y, '-+', beta*exp(-lam*X))\n",
    "plt.legend(['Numerical solution', '$be^{-\\lambda x}$'])\n",
    "plt.xlim(0, xmax)\n",
    "plt.show()"
   ]
  },
  {
   "cell_type": "markdown",
   "metadata": {},
   "source": [
    "It can be shown that the solution is stable iif $h \\leq \\frac{2}{\\lambda}$.\n",
    "\n",
    "This result can be extended to a system of $n$ differential equations of the form:\n",
    "$$\n",
    "\\textbf{y}' = - \\pmb{\\Lambda} \\textbf{y}\n",
    "$$\n",
    "where $\\pmb{\\Lambda}$ is a constant matrix with positive eigenvalues $\\lambda_i$. It can be shown that Euler's method of integration is stable if:\n",
    "$$\n",
    "h < \\frac{2}{\\lambda_{\\mathrm{max}}}\n",
    "$$\n",
    "where $\\lambda_{\\mathrm{max}}$ is the largest eigenvalue of $\\pmb{\\Lambda}$."
   ]
  },
  {
   "cell_type": "markdown",
   "metadata": {},
   "source": [
    "### Stiffness\n",
    "\n",
    "A problem is called *stiff* when some terms in the solution vector $\\textbf{y}(x)$ vary much more rapidly with x than others. \n",
    "\n",
    "Stiffness can be predicted for the equations:\n",
    "$$\n",
    "\\textbf{y}' = - \\pmb{\\Lambda} \\textbf{y}\n",
    "$$\n",
    "As their solution is:\n",
    "$$\n",
    "\\textbf{y}(x) = \\sum_iC_i\\textbf{v}_iexp(-\\lambda_ix)\n",
    "$$\n",
    "where $\\lambda_i$ are the eigenvalues of $\\pmb{\\Lambda}$ and $\\textbf{v}_i$ are the corresponding eigenvectors.\n",
    "\n",
    "**The problem is stiff when there is a large disparity in the eigenvalues**."
   ]
  },
  {
   "cell_type": "markdown",
   "metadata": {},
   "source": [
    "#### Example\n",
    "\n",
    "Consider the following differential equation:\n",
    "$$\n",
    "y'' + 1001 y' + 1000 y = 0\n",
    "$$\n",
    "\n",
    "We can rewrite it as:\n",
    "$$\n",
    "\\textbf{y}' = - \\pmb{\\Lambda} \\textbf{y}\n",
    "$$\n",
    "where:\n",
    "$$\n",
    "\\textbf{y} = \\begin{bmatrix}\n",
    "y_0 = y\\\\\n",
    "y_1 = y'\n",
    "\\end{bmatrix}\n",
    "\\quad\n",
    ";\n",
    "\\quad\n",
    "\\pmb{\\Lambda} = \\begin{bmatrix}\n",
    "0 & -1 \\\\\n",
    "1000 & 1001\n",
    "\\end{bmatrix}\n",
    "$$\n",
    "\n",
    "The eigenvalues of $\\pmb{\\Lambda}$ are $\\lambda_1=1000$ and $\\lambda_2=1$: the problem is clearly stiff.\n",
    "\n",
    "We would need $h \\leq \\frac{2}{\\lambda_1} = 0.002$ for the Euler's method to be stable. **This comes at a computational cost**.\n",
    "\n",
    "**Adaptive methods** (not seen in class) adjust $h$ to improve stability without increasing the computational cost too much."
   ]
  },
  {
   "cell_type": "markdown",
   "metadata": {},
   "source": [
    "#### Example 7.7"
   ]
  },
  {
   "cell_type": "code",
   "execution_count": 282,
   "metadata": {},
   "outputs": [
    {
     "name": "stdout",
     "output_type": "stream",
     "text": [
      "[[-9.00000000e+00  0.00000000e+00]\n",
      " [-1.95849609e+00 -4.79824219e+01]\n",
      " [ 5.34290807e+01 -5.59435678e+02]\n",
      " [ 6.39535013e+02 -6.11597118e+03]\n",
      " [ 7.00371021e+03 -6.65667020e+04]\n",
      " [ 7.62382711e+04 -7.24288073e+05]\n",
      " [ 8.29528177e+05 -7.88053676e+06]\n",
      " [ 9.02559581e+06 -8.57431750e+07]\n",
      " [ 9.82018484e+07 -9.32917572e+08]\n",
      " [ 1.06847257e+09 -1.01504894e+10]\n",
      " [ 1.16253780e+10 -1.10441091e+11]\n",
      " [ 1.26488427e+11 -1.20164006e+12]\n",
      " [ 1.37624103e+12 -1.30742897e+13]\n",
      " [ 1.49740131e+13 -1.42253124e+14]\n",
      " [ 1.62922819e+14 -1.54776678e+15]\n",
      " [ 1.77266073e+15 -1.68402769e+16]\n",
      " [ 1.92872066e+16 -1.83228462e+17]\n",
      " [ 2.09851965e+17 -1.99359367e+18]\n",
      " [ 2.28326725e+18 -2.16910389e+19]\n",
      " [ 2.48427950e+19 -2.36006553e+20]\n",
      " [ 2.70298829e+20 -2.56783887e+21]]\n"
     ]
    }
   ],
   "source": [
    "from numpy import array\n",
    "def F(x, y):\n",
    "    return array([\n",
    "        y[1],\n",
    "        -19/4*y[0]-10*y[1]\n",
    "    ])\n",
    "\n",
    "X2, Y2 = runge_kutta_4(F, 0, array([-9, 0]), 10, 0.5)\n",
    "print(Y2)"
   ]
  },
  {
   "cell_type": "code",
   "execution_count": null,
   "metadata": {},
   "outputs": [],
   "source": []
  }
 ],
 "metadata": {
  "kernelspec": {
   "display_name": "Python 3",
   "language": "python",
   "name": "python3"
  },
  "language_info": {
   "codemirror_mode": {
    "name": "ipython",
    "version": 3
   },
   "file_extension": ".py",
   "mimetype": "text/x-python",
   "name": "python",
   "nbconvert_exporter": "python",
   "pygments_lexer": "ipython3",
   "version": "3.6.6"
  }
 },
 "nbformat": 4,
 "nbformat_minor": 2
}
