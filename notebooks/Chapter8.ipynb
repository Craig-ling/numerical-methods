{
 "cells": [
  {
   "cell_type": "markdown",
   "metadata": {},
   "source": [
    "# Chapter 8: Two-Point Boundary Value Problems\n",
    "\n",
    "Solve $y'' = f(x, y, y'), \\quad y(a) = \\alpha ; \\quad y(b) = \\beta$"
   ]
  },
  {
   "cell_type": "markdown",
   "metadata": {},
   "source": [
    "## Introduction\n",
    "\n",
    "Since the auxiliary conditions are not given at the same point ($a \\neq b$), we cannot use the iterative techniques seen in the previous Chapter.\n",
    "\n",
    "Solutions:\n",
    "1. Guess the missing values, adjust guesses based on observed error (*shooting* method)\n",
    "2. Approximate equations with *finite differences*.\n",
    "\n",
    "Both methods lead to systems of non-linear equations. They need good starting values to converge."
   ]
  },
  {
   "cell_type": "markdown",
   "metadata": {},
   "source": [
    "## Shooting Method\n",
    "\n",
    "### Second-Order Differential Equation\n",
    "\n",
    "#### Formulation as a root-finding problem\n",
    "\n",
    "We consider the following problem with $a \\neq b$:\n",
    "$$\n",
    "y'' = f(x, y, y'), \\quad y(a) = \\alpha ; \\quad y(b) = \\beta\n",
    "$$\n",
    "\n",
    "We will find $u$ such that the problem can be converted to an initial value problem in the following form:\n",
    "$$\n",
    "y'' = f(x, y, y'), \\quad y(a) = \\alpha ; \\quad y'(a) = u \\quad \\textbf{(2)}\n",
    "$$"
   ]
  },
  {
   "cell_type": "markdown",
   "metadata": {},
   "source": [
    "We have:\n",
    "$$\n",
    "y(b) = \\theta(u)\n",
    "$$"
   ]
  },
  {
   "cell_type": "markdown",
   "metadata": {},
   "source": [
    "And we want to find $u$ such that:\n",
    "$$\n",
    "y(b) = \\beta\n",
    "$$\n",
    "That is:\n",
    "$$\n",
    "r(u) = \\theta(u) - \\beta = 0 \\quad \\textbf{(1)}\n",
    "$$"
   ]
  },
  {
   "cell_type": "markdown",
   "metadata": {},
   "source": [
    "#### Resolution of the root-finding problem\n",
    "\n",
    "Equation $\\textbf{(1)}$ cannot be solved using the Newton-Raphson method because there is no easy way to compute $\\theta'$.\n",
    "\n",
    "Instead, we will use the Regula Falsi method (the textbook uses Riddler's method which we haven't seen in class).\n",
    "\n",
    "The resolution method is as follows:\n",
    "1. Bracket the root of $r$ in [$u_1$, $u_2$]\n",
    "2. Apply the Regula Falsi method to solve Equation $\\textbf{(1)}$. Note that any evaluation of $\\theta(u)$ requires solving $\\textbf{(2)}$.\n",
    "3. Solve Equation $\\textbf{(2)}$ one last time with the final estimate of $u$."
   ]
  },
  {
   "cell_type": "markdown",
   "metadata": {},
   "source": [
    "#### Example 8.1\n",
    "\n",
    "Solve the boundary value problem:\n",
    "$$\n",
    "y''+3yy' = 0 ; \\quad y(0) = 0 ; \\quad y(2) = 1\n",
    "$$\n",
    "\n"
   ]
  },
  {
   "cell_type": "code",
   "execution_count": 114,
   "metadata": {},
   "outputs": [],
   "source": [
    "### Example 8.1\n",
    "def F(x, y):\n",
    "    return array([y[1], -3*y[0]*y[1]])"
   ]
  },
  {
   "cell_type": "code",
   "execution_count": 118,
   "metadata": {},
   "outputs": [],
   "source": [
    "### FROM CHAPTER 7\n",
    "from numpy import array\n",
    "def euler(F, x0, y0, x, h):\n",
    "    '''\n",
    "    Return y(x) given the following initial value problem:\n",
    "    y' = F(x, y)\n",
    "    y(x0) = y0 # initial conditions\n",
    "    h is the increment of x used in integration\n",
    "    F = [y'[0], y'[1], ..., y'[n-1]]\n",
    "    y = [y[0], y[1], ..., y[n-1]]\n",
    "    '''\n",
    "    X = [] # will store the value of x0 at each iteration\n",
    "    Y = [] # will store the value of y0 at each iteration\n",
    "    while x0 < x:\n",
    "        h = min(h, x-x0)\n",
    "        y0 = y0 + h*F(x0, y0) \n",
    "        x0 += h\n",
    "        X.append(x0)\n",
    "        Y.append(y0)\n",
    "    return array(X), array(Y)"
   ]
  },
  {
   "cell_type": "markdown",
   "metadata": {},
   "source": [
    "#### Implementation"
   ]
  },
  {
   "cell_type": "code",
   "execution_count": 147,
   "metadata": {},
   "outputs": [],
   "source": [
    "from numpy import array\n",
    "def shooting_o2(F, a, alpha, b, beta, u0, u1, delta=10E-3):\n",
    "    '''\n",
    "    Solve the boundary condition problem defined by:\n",
    "    y' = F(x, y)\n",
    "    y(a) = alpha\n",
    "    y(b) = beta\n",
    "    u0 and u1 define a bracket for y'(a)\n",
    "    delta is the desired accuracy on y'(a)\n",
    "    Assumes problem is of order 2 (F has two coordinates, alpha and beta are scalars)\n",
    "    '''\n",
    "    \n",
    "\n",
    "    def r(u):\n",
    "        '''\n",
    "        Boundary residual, as in equation (1)\n",
    "        '''\n",
    "        # Estimate theta_u\n",
    "        # Evaluate y and y' until x=b, using initial condition y(a)=alpha and y'(a)=u\n",
    "        X, Y = runge_kutta_4(F, a, array([alpha, u]), b, 1/2)\n",
    "        theta_u = Y[-1,0] # last row, first column (y)\n",
    "        return theta_u - beta\n",
    "\n",
    "    # Find u as a the zero of r\n",
    "    u, _ = false_position(r, u0, u1, delta)\n",
    "    \n",
    "    # Now use u to solve the initial value problem one more time\n",
    "    X, Y = runge_kutta_4(F, a, array([alpha, u]), b, 0.2)\n",
    "    return X, Y"
   ]
  },
  {
   "cell_type": "code",
   "execution_count": 148,
   "metadata": {},
   "outputs": [],
   "source": [
    "# FROM CHAPTER 4\n",
    "\n",
    "from numpy import sign\n",
    "\n",
    "def false_position(f, a, b, delta_x):\n",
    "    '''\n",
    "    f is the function for which we will find a zero\n",
    "    a and b define the bracket\n",
    "    delta_x is the desired accuracy\n",
    "    Returns ci such that |ci-c_{i-1}| < delta_x\n",
    "    '''\n",
    "    fa = f(a)\n",
    "    fb = f(b)\n",
    "    if sign(fa) == sign(fb):\n",
    "        raise Exception(\"Root hasn't been bracketed\")\n",
    "    estimates = []\n",
    "    while True:\n",
    "        c = (a*fb-b*fa)/(fb-fa)\n",
    "        estimates.append(c)\n",
    "        fc = f(c)\n",
    "        if sign(fc) == sign(fa):\n",
    "            a = c\n",
    "            fa = fc\n",
    "        else:\n",
    "            b = c\n",
    "            fb = fc\n",
    "        if len(estimates) >=2 and abs(estimates[-1] - estimates[-2]) <= delta_x:\n",
    "            break\n",
    "    return c, estimates"
   ]
  },
  {
   "cell_type": "code",
   "execution_count": 149,
   "metadata": {},
   "outputs": [],
   "source": [
    "### FROM CHAPTER 7\n",
    "from numpy import array\n",
    "def runge_kutta_4(F, x0, y0, x, h):\n",
    "    X = []\n",
    "    Y = []\n",
    "    X.append(x0)\n",
    "    Y.append(y0)\n",
    "    while x0 < x:\n",
    "        k0 = F(x0, y0)\n",
    "        k1 = F(x0+h/2.0, y0 + h/2.0*k0)\n",
    "        k2 = F(x0 + h/2.0, y0 + h/2*k1)\n",
    "        k3 = F(x0+h, y0+h*k2)\n",
    "        y0 = y0 + h/6.0*(k0+2*k1+2.0*k2+k3)\n",
    "        x0 += h\n",
    "        X.append(x0)\n",
    "        Y.append(y0)\n",
    "    return array(X), array(Y)"
   ]
  },
  {
   "cell_type": "code",
   "execution_count": 166,
   "metadata": {},
   "outputs": [
    {
     "data": {
      "image/png": "[encoded data removed]",
      "text/plain": [
       "<Figure size 432x288 with 1 Axes>"
      ]
     },
     "metadata": {},
     "output_type": "display_data"
    }
   ],
   "source": [
    "### Example 8.1\n",
    "a = 0 \n",
    "alpha = 0\n",
    "b = 2\n",
    "beta = 1\n",
    "X, Y = shooting_o2(F, a, alpha, b, beta, 1/2, 2)\n",
    "from matplotlib import pyplot as plt\n",
    "plt.plot(X, Y[:,0], '+-', X, Y[:,1], '+-')\n",
    "plt.legend([\"y\", \"y'\"])\n",
    "plt.show()"
   ]
  },
  {
   "cell_type": "code",
   "execution_count": 123,
   "metadata": {},
   "outputs": [],
   "source": [
    "#### Example 8.2"
   ]
  },
  {
   "cell_type": "markdown",
   "metadata": {},
   "source": [
    "## Finite Difference Method\n",
    "\n",
    "We derive the range of integration (a, b) into $m$ sub-intervals of length $h$ each:"
   ]
  },
  {
   "cell_type": "code",
   "execution_count": 71,
   "metadata": {},
   "outputs": [
    {
     "data": {
      "image/png": "[encoded data removed]",
      "text/plain": [
       "<Figure size 432x288 with 1 Axes>"
      ]
     },
     "metadata": {},
     "output_type": "display_data"
    }
   ],
   "source": [
    "from numpy import arange, log\n",
    "from matplotlib import pyplot as plt\n",
    "x = arange(1,10)\n",
    "y = log(x)\n",
    "plt.plot(x, y, x[1:-1], y[1:-1], 'o')\n",
    "xtics = [\"$x_{-1}$\", \"$x_0$=a\", \"$x_1$\", \"$x_2$\", \"\", \"$x_{m-2}$\", \"$x_{m-1}$\", \"$x_m$=b\", \"$x_{m+1}$\"]\n",
    "ytics = [\"$y_{-1}$\", \"$y_0$\", \"$y_1$\", \"$y_2$\", \"\", \"$y_{m-2}$\", \"$y_{m-1}$\", \"$y_m$\", \"$y_{m+1}$\"]\n",
    "plt.xticks([1, 2, 3, 4, 5, 6, 7, 8, 9, 10], xtics)\n",
    "plt.yticks(log([1, 2, 3, 4, 5, 6, 7, 8, 9, 10]), ytics)\n",
    "for i in x:\n",
    "    plt.plot([i, i], [0, log(i)], '--', color='orange')\n",
    "plt.annotate(s='', xy=(3, 1), xytext=(4, 1), arrowprops=dict(arrowstyle='<->', color='green'))\n",
    "plt.annotate(s='h', xy=(3.5, 1.1), color='green')\n",
    "\n",
    "plt.ylim(0)\n",
    "plt.show()"
   ]
  },
  {
   "cell_type": "markdown",
   "metadata": {},
   "source": [
    "The solutions will be computed at the mesh points: $y_0, \\ldots, y_m$."
   ]
  },
  {
   "cell_type": "markdown",
   "metadata": {},
   "source": [
    "Main principle:\n",
    "1. The derivatives of $y$ are replaced by their finite difference expressions as in Chapter 5 (here, first central):\n",
    "$$\n",
    "y_i' = \\frac{y_{i+1}-y_{i-1}}{2h} \\quad ; \\quad y_i'' = \\frac{y_{i-1}-2y_i+y_{i+1}}{h^2}\n",
    "$$\n",
    "2. The differential equation will be enforced only at the mesh points."
   ]
  },
  {
   "cell_type": "markdown",
   "metadata": {},
   "source": [
    "As a result, the non-linear equations will be replaced by a system of $m+1$ algebraic equations where the unknowns are $y_i$:\n",
    "* If the differential equation is linear, these equations can be solved by any method in Chapter 2.\n",
    "* If the differential equation is non-linear, it must be solved using Newton-Raphson (Chapter 4)."
   ]
  },
  {
   "cell_type": "markdown",
   "metadata": {},
   "source": [
    "### Truncation Error\n",
    "\n",
    "* Finite differences: $\\mathcal{O}(h^2)$. \n",
    "* Runge-Kutta (used in shooting method): $\\mathcal{O}(h^4)$."
   ]
  },
  {
   "cell_type": "markdown",
   "metadata": {},
   "source": [
    "### Second-Order Differential Equation\n",
    "\n",
    "Consider the following problem:\n",
    "$$\n",
    "y'' = f(x, y, y')\n",
    "$$\n",
    "with the boundary conditions:\n",
    "$$\n",
    "y(a) = \\alpha \\quad \\mathrm{or} \\quad y'(a) = \\alpha \\\\\n",
    "y(b) = \\beta \\quad \\mathrm{or} \\quad y'(b) = \\beta\n",
    "$$"
   ]
  },
  {
   "cell_type": "markdown",
   "metadata": {},
   "source": [
    "Using the finite difference approxiximations of y' and y'', we obtain:\n",
    "\n",
    "$$\n",
    "\\begin{cases}\n",
    "y_0 - \\alpha = 0 & \\mathrm{if} \\quad  y(a)=\\alpha  \\\\\n",
    "-2y_0 +2y_1 -h^2f(x_0, y_0, \\alpha)-2h\\alpha = 0 & \\mathrm{if} \\quad y'(a) = \\alpha\n",
    "\\end{cases}\\\\\n",
    "y_{i-1}-2y_i+y_{i+1}-h^2f\\left(x_i,y_i,\\frac{y_{i+1}-y_{i-1}}{2h}\\right)=0 \\quad i=1,2\\ldots,m-1\\\\\n",
    "\\begin{cases}\n",
    "y_m-\\beta = 0 & \\mathrm{if} \\quad y(b)=\\beta \\\\\n",
    "2y_{m-1}-2y_m-h^2f(x_m,y_m,\\beta)+2h\\beta = 0 & \\mathrm{if} \\quad y'(b)=\\beta\n",
    "\\end{cases}\n",
    "$$\n"
   ]
  },
  {
   "cell_type": "markdown",
   "metadata": {},
   "source": [
    "#### Example 8.6\n",
    "\n",
    "Solve the following equations with a computer program, with m=10:\n",
    "$$\n",
    "y'' = -4y + 4x \\quad ; \\quad y(0) = 0 \\quad ; \\quad y'(\\pi/2)=0\n",
    "$$"
   ]
  },
  {
   "cell_type": "code",
   "execution_count": 126,
   "metadata": {},
   "outputs": [],
   "source": [
    "# Tridiagonal solver, from CHAPTER 2\n",
    "def tridiag_decomp(c, d, e):\n",
    "    assert(len(c) == len(d) == len(e))\n",
    "    n = len(c)\n",
    "    for k in range(1, n):\n",
    "        lambd = c[k-1]/d[k-1]\n",
    "        d[k] -= lambd*e[k-1]\n",
    "        c[k-1] = lambd\n",
    "\n",
    "from numpy import zeros\n",
    "def tridiag_solve(c, d, e, b): # watch out, input has to be in LU form!\n",
    "    assert(len(c) == len(d) == len(e) == len(b))\n",
    "    n = len(c)\n",
    "    # forward substitution\n",
    "    for i in range(1, n):\n",
    "        b[i] = b[i]-c[i-1]*b[i-1] # Here we use b to store y\n",
    "    # back substitution\n",
    "    b[n-1] = b[n-1]/d[n-1] # Here we use b to store x\n",
    "    for i in range (n-2, -1, -1):\n",
    "        b[i] = (b[i]-e[i]*b[i+1])/d[i]\n",
    "\n",
    "def tridiag_solver(c, d, e, b): # complete solver for tridiagonal systems\n",
    "    tridiag_decomp(c, d, e)\n",
    "    tridiag_solve(c, d, e, b)"
   ]
  },
  {
   "cell_type": "code",
   "execution_count": 134,
   "metadata": {},
   "outputs": [
    {
     "data": {
      "image/png": "[encoded data removed]",
      "text/plain": [
       "<Figure size 432x288 with 1 Axes>"
      ]
     },
     "metadata": {},
     "output_type": "display_data"
    }
   ],
   "source": [
    "from numpy import array, ones, zeros\n",
    "from math import pi\n",
    "\n",
    "m = 10\n",
    "h = pi/2/m\n",
    "\n",
    "c = ones(m+1) # lower diagonal elements\n",
    "d = ones(m+1) # diagonal elements\n",
    "e = ones(m+1) # upper diagonal elements\n",
    "b = zeros(m+1) # right-hand terms\n",
    "x = h*arange(m+1)\n",
    "\n",
    "e[0] = 0\n",
    "for i in range(1, m+1):\n",
    "    d[i] = 4*h**2-2\n",
    "c[m-1] = 2\n",
    "\n",
    "b[0] = 0\n",
    "for i in range(1, m+1):\n",
    "    b[i] = 4*h**2*x[i]\n",
    "\n",
    "tridiag_solver(c, d, e, b)\n",
    "from matplotlib import pyplot as plt\n",
    "plt.plot(x, b)\n",
    "plt.show()\n",
    "#print(x, b)"
   ]
  },
  {
   "cell_type": "markdown",
   "metadata": {},
   "source": [
    "#### Example 8.7\n",
    "\n",
    "Solve the boundary value problem:\n",
    "$$\n",
    "y'' = -3yy' \\quad ; \\quad y(0)=0 \\quad ; \\quad y(2)=1\n",
    "$$\n",
    "With the finite difference method. Use m=10 and compare the output with the results of the shooting method in Example 8.1."
   ]
  },
  {
   "cell_type": "code",
   "execution_count": 73,
   "metadata": {},
   "outputs": [],
   "source": [
    "### From Chapter 4\n",
    "\n",
    "from numpy import zeros\n",
    "\n",
    "def jacobian(f, x):\n",
    "    '''\n",
    "    Returns the Jacobian matrix of f taken in x J(x)\n",
    "    '''\n",
    "    n = len(x)\n",
    "    jac = zeros((n, n))\n",
    "    h = 10E-4\n",
    "    fx = f(x)\n",
    "    # go through the columns of J\n",
    "    for j in range(n):\n",
    "        # compute x + h ej\n",
    "        old_xj = x[j]\n",
    "        x[j] += h\n",
    "        # update the Jacobian matrix (eq 3)\n",
    "        # Now x is x + h*ej\n",
    "        jac[:, j] = (f(x)-fx) / h \n",
    "        # restore x[j]\n",
    "        x[j] = old_xj\n",
    "    return jac\n",
    "\n",
    "from numpy.linalg import solve\n",
    "from numpy import sqrt\n",
    "\n",
    "def newton_raphson_system(f, init_x, epsilon=10E-4, max_iterations=100):\n",
    "    '''\n",
    "    Return a solution of f(x)=0 by Newton-Raphson method.\n",
    "    init_x is the initial guess of the solution\n",
    "    '''\n",
    "    x = init_x\n",
    "    for i in range(max_iterations):\n",
    "        J = jacobian(f, x)\n",
    "        delta_x = solve(J, -f(x)) # we could also use our functions from Chapter 2!\n",
    "        x = x + delta_x\n",
    "        if sqrt(sum(delta_x**2)) <= epsilon:\n",
    "            print(\"Converged in {} iterations\".format(i))\n",
    "            return x\n",
    "    raise Exception(\"Could not find root!\")"
   ]
  },
  {
   "cell_type": "code",
   "execution_count": 188,
   "metadata": {},
   "outputs": [
    {
     "name": "stdout",
     "output_type": "stream",
     "text": [
      "Converged in 3 iterations\n"
     ]
    },
    {
     "data": {
      "image/png": "[encoded data removed]",
      "text/plain": [
       "<Figure size 432x288 with 1 Axes>"
      ]
     },
     "metadata": {},
     "output_type": "display_data"
    }
   ],
   "source": [
    "from numpy import array\n",
    "m = 10\n",
    "def f(y): # function for which a zero must be found\n",
    "    fy = zeros(m+1)\n",
    "    fy[m] = y[m] - 1\n",
    "    fy[0] = y[0]\n",
    "    for i in range(1, m):\n",
    "        fy[i] = y[i+1] + y[i-1] - 2*y[i] + 3*h**2*y[i]*((y[i+1]-y[i-1])/(2*h))\n",
    "    return fy\n",
    "y = newton_raphson_system(f, ones(m+1))\n",
    "h = 2/m\n",
    "x = h*arange(m+1)\n",
    "from matplotlib import pyplot as plt\n",
    "plt.plot(x, y, '+-')\n",
    "plt.plot(X, Y[:,0], '-') # Shooting method\n",
    "plt.legend([\"Finite differences\", \"Shooting\"])\n",
    "plt.show()"
   ]
  },
  {
   "cell_type": "code",
   "execution_count": 189,
   "metadata": {},
   "outputs": [
    {
     "data": {
      "image/png": "[encoded data removed]",
      "text/plain": [
       "<Figure size 432x288 with 1 Axes>"
      ]
     },
     "metadata": {},
     "output_type": "display_data"
    }
   ],
   "source": [
    "plt.xlim(0.4, 0.7)\n",
    "plt.ylim(0.6,0.8)\n",
    "plt.plot(x, y, '+-')\n",
    "plt.plot(X, Y[:,0], '-') # Shooting method\n",
    "plt.legend([\"Finite differences\", \"Shooting\"])\n",
    "plt.show()"
   ]
  },
  {
   "cell_type": "code",
   "execution_count": null,
   "metadata": {},
   "outputs": [],
   "source": []
  }
 ],
 "metadata": {
  "kernelspec": {
   "display_name": "Python 3",
   "language": "python",
   "name": "python3"
  },
  "language_info": {
   "codemirror_mode": {
    "name": "ipython",
    "version": 3
   },
   "file_extension": ".py",
   "mimetype": "text/x-python",
   "name": "python",
   "nbconvert_exporter": "python",
   "pygments_lexer": "ipython3",
   "version": "3.6.6"
  }
 },
 "nbformat": 4,
 "nbformat_minor": 2
}
