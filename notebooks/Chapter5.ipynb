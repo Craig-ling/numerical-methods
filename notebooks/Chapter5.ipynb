{
 "cells": [
  {
   "cell_type": "markdown",
   "metadata": {},
   "source": [
    "# Chapter 5: Numerical Differentiation\n",
    "\n",
    "\n",
    "**Goal**: Given the function f(x), compute $\\frac{d^nf}{dx^n}$ at a given $x$."
   ]
  },
  {
   "cell_type": "markdown",
   "metadata": {},
   "source": [
    "## Introduction\n",
    "\n",
    "f is given as:\n",
    "* A program, or:\n",
    "* A finite number of (x,y) data pairs.\n",
    "\n",
    "Methods to compute f' rely on:\n",
    "* The Taylor expansion of f, or\n",
    "* Interpolation of f\n",
    "\n",
    "Note: numerical differentiation is not an accurate process, it is prone to roundoff errors caused by limited machine precision."
   ]
  },
  {
   "cell_type": "markdown",
   "metadata": {},
   "source": [
    "## Finite Difference Approximations\n",
    "\n",
    "### [Taylor](https://en.wikipedia.org/wiki/Brook_Taylor) expansion\n",
    "\n",
    "The forward and backward Taylor expansion of f(x) at $h$ is:\n",
    "\n",
    "$$\n",
    "f(x+h) = f(x) + hf'(x) + \\frac{h^2}{2!}f''(x) + \\frac{h^3}{3!}f'''(x) + \\frac{h^4}{4!}f^{(4)}(x) + \\ldots \\quad \\mathrm{(a)}\\\\\n",
    "f(x-h) = f(x) - hf'(x) + \\frac{h^2}{2!}f''(x) - \\frac{h^3}{3!}f'''(x) + \\frac{h^4}{4!}f^{(4)}(x) + \\ldots \\quad \\mathrm{(b)}\n",
    "$$\n"
   ]
  },
  {
   "cell_type": "markdown",
   "metadata": {},
   "source": [
    "### Central Difference Approximations in $\\mathcal{o}\\left(h^2\\right)$\n",
    "\n",
    "\n",
    "#### Expressions of f' and f''\n",
    "\n",
    "Neglecting the terms in $h^3$, $h^4$ and higher powers of $h$ ($h$ should be small), Equations (a) and (b) can be seen as a system of linear equations in $f'$ and $f''$:\n",
    "\n"
   ]
  },
  {
   "cell_type": "markdown",
   "metadata": {},
   "source": [
    "(a) + (b) gives:\n",
    "$$\n",
    "f(x+h) + f(x-h) = 2f(x) +h^2f''(x)\n",
    "$$\n",
    "That is:\n",
    "$$\n",
    "f''(x) = \\frac{f(x+h)+f(x-h)-2f(x)}{h^2}\n",
    "$$"
   ]
  },
  {
   "cell_type": "markdown",
   "metadata": {},
   "source": [
    "Likewise, (a) - (b) gives:\n",
    "$$\n",
    "f(x+h) - f(x-h) = 2hf'(x)\n",
    "$$\n",
    "That is:\n",
    "$$\n",
    "f'(x) = \\frac{f(x+h)-f(x-h)}{2h}\n",
    "$$"
   ]
  },
  {
   "cell_type": "markdown",
   "metadata": {},
   "source": [
    "#### $\\mathcal{o}$ notation ('little-o')"
   ]
  },
  {
   "cell_type": "markdown",
   "metadata": {},
   "source": [
    "In the previous Equations, we neglected the terms in $h^3$, $h^4$, etc.\n",
    "\n",
    "To remember that all the powers of h larger than 2 were neglected, we add  $\\mathcal{o}(h^2)$ to the equations:\n",
    "\n",
    "$$\n",
    "f'(x) = \\frac{f(x+h)-f(x-h)}{2h} + \\mathcal{o}\\left(h^2\\right) \\quad \\textbf{(1)} \n",
    "$$\n",
    "\n",
    "$$\n",
    "f''(x) = \\frac{f(x+h)+f(x-h)-2f(x)}{h^2} + \\mathcal{o}\\left(h^2\\right) \\quad \\textbf{(2)} \n",
    "$$\n",
    "\n",
    "Equations $\\textbf{(1)}$ and $\\textbf{(2)}$ are called *first central difference approximation for f' and f''*."
   ]
  },
  {
   "cell_type": "markdown",
   "metadata": {},
   "source": [
    "#### Expression of f''' and $f^{(4)}$\n",
    "\n",
    "We need two more equations to compute f''' and $f^{(4)}$. These are provided by the forward and backward Taylor expansion of $f$ at $2h$:\n",
    "\n",
    "$$\n",
    "f(x+2h) = f(x) + 2hf'(x) + \\frac{4h^2}{2!}f''(x) + \\frac{8h^3}{3!}f'''(x) + \\frac{16h^4}{4!}f^{(4)}(x) + o\\left(h^4\\right)\n",
    "$$\n",
    "$$\n",
    "f(x-2h) = f(x) - 2hf'(x) + \\frac{4h^2}{2!}f''(x) - \\frac{8h^3}{3!}f'''(x) + \\frac{16h^4}{4!}f^{(4)}(x) + o\\left(h^4\\right)\n",
    "$$\n",
    "And Equations $\\textbf{(a)}$ and $\\textbf{(b)}$ need to be written up to the $h^4$ term:\n",
    "$$\n",
    "f(x+h) = f(x) + hf'(x) + \\frac{h^2}{2!}f''(x) + \\frac{h^3}{3!}f'''(x) + \\frac{h^4}{4!}f^{(4)}(x) + o\\left(h^4\\right)\\\\\n",
    "f(x-h) = f(x) - hf'(x) + \\frac{h^2}{2!}f''(x) - \\frac{h^3}{3!}f'''(x) + \\frac{h^4}{4!}f^{(4)}(x) + o\\left(h^4\\right)\n",
    "$$\n"
   ]
  },
  {
   "cell_type": "markdown",
   "metadata": {},
   "source": [
    "By solving this system in $f'(x)$, $f''(x)$, $f'''(x)$ and $f^{(4)}(x)$, we obtain the first central difference approximations for f''' and $f^{(4)}$:\n",
    "$$\n",
    "f'''(x) = \\frac{2f(x-h)+f(x+2h)-2f(x+h)-f(x-2h)}{2h^3} + \\mathcal{o}\\left( h^4 \\right) \\quad \\textbf{(3)}\n",
    "$$\n",
    "$$\n",
    "f^{(4)}(x) = \\frac{f(x+2h)+f(x-2h)+6f(x)-4f(x-h)-4f(x+h)}{h^4} + \\mathcal{o}\\left( h^4 \\right) \\quad \\textbf{(4)}\n",
    "$$"
   ]
  },
  {
   "cell_type": "markdown",
   "metadata": {},
   "source": [
    "#### Error analysis\n",
    "\n",
    "Equations $\\textbf{(1)}$ to $\\textbf{(4)}$ are hampered by the following trade-off:\n",
    "1. When $h$ is large, $\\mathcal{o}\\left( h^2 \\right)$ is also large $\\rightarrow$ the *truncation* error is large.\n",
    "2. When $h$ is small:\n",
    "   * $f(x) \\approx f(x+h) \\approx f(x-h) \\approx f(x+2h) \\approx f(x-2h)$.\n",
    "   * The nominator and denominator in Equations $\\textbf{(1)}$ to $\\textbf{(4)}$ are close to zero.\n",
    "   * $\\rightarrow$ the *roundoff* error is large.\n",
    "   \n",
    "Numerical derivation is not an accurate process!"
   ]
  },
  {
   "cell_type": "markdown",
   "metadata": {},
   "source": [
    "#### Implementation and illustration\n",
    "\n",
    "The implementation of equations Equations $\\textbf{(1)}$ to $\\textbf{(4)}$ is straightforward:"
   ]
  },
  {
   "cell_type": "code",
   "execution_count": 1,
   "metadata": {},
   "outputs": [],
   "source": [
    "def f_1(f, x, h=10E-2):\n",
    "    return (f(x+h)-f(x-h))/(2*h)\n",
    "\n",
    "def f_2(f, x, h=10E-2):\n",
    "    return (f(x+h)-2*f(x)+f(x-h))/h**2\n",
    "\n",
    "def f_3(f, x, h=10E-2):\n",
    "    return (f(x+2*h)-2*f(x+h)+2*f(x-h)-f(x-2*h))/(2*h**3)\n",
    "\n",
    "def f_4(f, x, h=10E-2):\n",
    "    return (f(x+2*h)-4*f(x+h)+6*f(x)-4*f(x-h)+f(x-2*h))/h**4"
   ]
  },
  {
   "cell_type": "code",
   "execution_count": 2,
   "metadata": {},
   "outputs": [
    {
     "data": {
      "text/plain": [
       "<Figure size 640x480 with 1 Axes>"
      ]
     },
     "metadata": {},
     "output_type": "display_data"
    },
    {
     "data": {
      "text/plain": [
       "<Figure size 640x480 with 1 Axes>"
      ]
     },
     "metadata": {},
     "output_type": "display_data"
    }
   ],
   "source": [
    "from math import exp\n",
    "from numpy import zeros\n",
    "from numpy import zeros, ones, arange\n",
    "from math import exp\n",
    "n = 200\n",
    "x = 1\n",
    "incr_h = 10E-9\n",
    "h = incr_h+incr_h*arange(n)\n",
    "f = ones(n)*exp(x)\n",
    "df = zeros(n)\n",
    "ddddf = zeros(n)\n",
    "for i in range(n):\n",
    "    df[i] = f_1(exp, x, h[i])\n",
    "    ddddf[i] = f_4(exp, x, h[i])\n",
    "    \n",
    "from matplotlib import pyplot as plt\n",
    "plt.plot(h, f, h, df)\n",
    "plt.legend((\"reference\", \"f'\"))\n",
    "plt.show()\n",
    "plt.plot(h, f, h, ddddf)\n",
    "plt.legend((\"reference\", \"$f^{(4)}$\"))\n",
    "plt.show()"
   ]
  },
  {
   "cell_type": "markdown",
   "metadata": {},
   "source": [
    "### Non-central approximations\n",
    "\n",
    "Central approximations are not always usable. For instance, if the function is given at $x_0$, ..., $x_n$, they cannot be used\n",
    "to compute the derivatives at $x_0$ and $x_n$."
   ]
  },
  {
   "cell_type": "markdown",
   "metadata": {},
   "source": [
    "#### Approximation in $\\mathcal{o}\\left(h\\right)$\n",
    "\n",
    "The first *forward* approximation of f' is obtained from Equation $\\textbf{(a)}$:\n",
    "\n",
    "$$\n",
    "f(x+h) = f(x) + hf'(x) + \\mathcal{o}\\left( h \\right)\n",
    "$$\n",
    "\n",
    "which gives:\n",
    "\n",
    "$$\n",
    "f'(x) = \\frac{f(x+h)-f(x)}{h} + \\mathcal{o}\\left( h \\right) \\quad \\textbf{(5)}\n",
    "$$"
   ]
  },
  {
   "cell_type": "markdown",
   "metadata": {},
   "source": [
    "Likewise, the first *backward* approximation of f' is obtained from Equation $\\textbf{(b)}$:\n",
    "\n",
    "$$\n",
    "f(x-h) = f(x) - hf'(x) + \\mathcal{o}\\left( h \\right)\n",
    "$$\n",
    "\n",
    "which gives:\n",
    "\n",
    "$$\n",
    "f'(x) = \\frac{f(x)-f(x-h)}{h} + \\mathcal{o}\\left( h \\right)\n",
    "$$"
   ]
  },
  {
   "cell_type": "markdown",
   "metadata": {},
   "source": [
    "#### Error analysis\n",
    "\n",
    "Approximations in $\\mathcal{o}\\left(h\\right)$ are not accurate, as illustrated below."
   ]
  },
  {
   "cell_type": "code",
   "execution_count": 3,
   "metadata": {},
   "outputs": [],
   "source": [
    "def first_forward(f, x, h):\n",
    "    return (f(x+h)-f(x))/h"
   ]
  },
  {
   "cell_type": "code",
   "execution_count": 4,
   "metadata": {},
   "outputs": [
    {
     "data": {
      "image/png": "[encoded data removed]",
      "text/plain": [
       "<Figure size 432x288 with 1 Axes>"
      ]
     },
     "metadata": {},
     "output_type": "display_data"
    }
   ],
   "source": [
    "from numpy import zeros, ones, arange\n",
    "from math import exp\n",
    "n = 200\n",
    "x = 1\n",
    "incr_h = 10E-10\n",
    "h = incr_h+incr_h*arange(n)\n",
    "f = ones(n)*exp(x)\n",
    "df = zeros(n)\n",
    "df_cent = zeros(n)\n",
    "for i in range(n):\n",
    "    df[i] = first_forward(exp, x, h[i])\n",
    "    df_cent[i] = f_1(exp, x, h[i]) # central approximation\n",
    "\n",
    "    \n",
    "from matplotlib import pyplot as plt\n",
    "plt.plot(h, f, h, df, h, df_cent)\n",
    "plt.legend(('reference', 'forward o($h$)', 'central o($h^2$)'))\n",
    "plt.show()"
   ]
  },
  {
   "cell_type": "markdown",
   "metadata": {},
   "source": [
    "#### Approximation in $\\mathcal{o}\\left(h^2\\right)$\n",
    "\n",
    "First-order approximations are not accurate. Instead, second-order *forward* approximations of $f'$ and $f''$ can be obtained from the following equations:\n",
    "\n",
    "$$\n",
    "f(x+h) = f(x) + hf'(x) + \\frac{h^2}{2!}f''(x) + o\\left(h^2\\right)\n",
    "$$\n",
    "\n",
    "$$\n",
    "f(x+2h) = f(x) + 2hf'(x) + \\frac{4h^2}{2!}f''(x)+ o\\left(h^2\\right)\n",
    "$$\n"
   ]
  },
  {
   "cell_type": "markdown",
   "metadata": {},
   "source": [
    "Solving these equations in $f'(x)$ and $f''(x)$ gives:\n",
    "$$\n",
    "f'(x) = \\frac{-f(x+2h)+4f(x+h)-3f(x)}{2h} +\\mathcal{o}\\left(h^2\\right) \\quad \\textbf{(6)}\n",
    "$$\n",
    "$$\n",
    "f''(x) = \\frac{f(x+2h)-2f(x+h)+f(x)}{h}+\\mathcal{o}\\left(h^2\\right)\n",
    "$$\n",
    "\n",
    "Forward approximations of $f'''(x)$ uses Taylor expansions of $f(x+3h)$, $f^{(4)}$ uses $f(x+4h)$, etc.\n",
    "\n",
    "Equation $\\textbf{(6)}$ is much more accurate than Equation $\\textbf{(5)}$, as illustrated below:"
   ]
  },
  {
   "cell_type": "code",
   "execution_count": 5,
   "metadata": {},
   "outputs": [],
   "source": [
    "def second_forward(f, x, h):\n",
    "    return (-f(x+2*h)+4*f(x+h)-3*f(x))/(2*h)"
   ]
  },
  {
   "cell_type": "code",
   "execution_count": 6,
   "metadata": {},
   "outputs": [
    {
     "data": {
      "image/png": "[encoded data removed]",
      "text/plain": [
       "<Figure size 432x288 with 1 Axes>"
      ]
     },
     "metadata": {},
     "output_type": "display_data"
    }
   ],
   "source": [
    "from numpy import zeros, ones, arange\n",
    "from math import exp\n",
    "n = 200\n",
    "x = 1\n",
    "incr_h = 10E-10\n",
    "h = incr_h+incr_h*arange(n)\n",
    "f = ones(n)*exp(x)\n",
    "df = zeros(n)\n",
    "df_cent = zeros(n)\n",
    "df_second = zeros(n)\n",
    "for i in range(n):\n",
    "    df[i] = first_forward(exp, x, h[i]) # o(h) forward approximation\n",
    "    df_second[i] = second_forward(exp, x, h[i]) # o(h**2) forward approximation\n",
    "    df_cent[i] = f_1(exp, x, h[i]) # central approximation\n",
    "    \n",
    "from matplotlib import pyplot as plt\n",
    "plt.plot(h, f, h, df, h, df_second, h, df_cent)\n",
    "plt.legend(('reference', 'forward o(h)', 'forward o($h^2$)', 'central o($h^2$)'))\n",
    "plt.show()"
   ]
  },
  {
   "cell_type": "markdown",
   "metadata": {},
   "source": [
    "### Example (in class)\n",
    "\n",
    "Example 5.1 in textbook."
   ]
  },
  {
   "cell_type": "markdown",
   "metadata": {},
   "source": [
    "## [Richardson](https://en.wikipedia.org/wiki/Lewis_Fry_Richardson) Extrapolation\n",
    "\n",
    "Richardson extrapolation is a way to boost numerical accuracy.\n",
    "\n",
    "Suppose that we have some quantity G that we can estimate using parameter $h$ with error $e$:\n",
    "$$\n",
    "G = g(h) + e(h)\n",
    "$$\n",
    "Richardson extrapolation assumes that the error is in the form $e(h)=ch^p$, with c and p constants."
   ]
  },
  {
   "cell_type": "markdown",
   "metadata": {},
   "source": [
    "We compute $G$ with two values of h, $h_1$ and $h_2$:\n",
    "\n",
    "$$\n",
    "G = g(h_1) + ch_1^p\n",
    "$$\n",
    "$$\n",
    "G = g(h_2) + ch_2^p\n",
    "$$\n"
   ]
  },
  {
   "cell_type": "markdown",
   "metadata": {},
   "source": [
    "From the first equation, we get:\n",
    "$$\n",
    "c= \\frac{G-g(h_1)}{h_1^p}\n",
    "$$\n",
    "which gives, in the second equation:\n",
    "$$\n",
    "G = \\frac{h_1^pg(h_2)-h_2^2g(h_1)}{h_1^p-h_2^p}\n",
    "$$"
   ]
  },
  {
   "cell_type": "markdown",
   "metadata": {},
   "source": [
    "### Example (in class)\n",
    "\n",
    "1. Richardson extrapolation for $\\mathcal{o}(n)$ approximation of $f'(x)=e^x$ at x=1, with $h_1=0.1$ and $h_2=0.2$."
   ]
  },
  {
   "cell_type": "markdown",
   "metadata": {},
   "source": [
    "## Derivatives by interpolation"
   ]
  },
  {
   "cell_type": "code",
   "execution_count": null,
   "metadata": {},
   "outputs": [],
   "source": []
  }
 ],
 "metadata": {
  "kernelspec": {
   "display_name": "Python 3",
   "language": "python",
   "name": "python3"
  },
  "language_info": {
   "codemirror_mode": {
    "name": "ipython",
    "version": 3
   },
   "file_extension": ".py",
   "mimetype": "text/x-python",
   "name": "python",
   "nbconvert_exporter": "python",
   "pygments_lexer": "ipython3",
   "version": "3.6.6"
  }
 },
 "nbformat": 4,
 "nbformat_minor": 2
}
