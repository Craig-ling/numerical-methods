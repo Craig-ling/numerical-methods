{
 "cells": [
  {
   "cell_type": "markdown",
   "metadata": {},
   "source": [
    "# Chapter 2: Systems of Linear Algebraic Equations\n",
    "\n",
    "*Warning:* This is a critical chapter of the course.\n",
    "\n",
    "## 2.1 Introduction\n",
    "\n",
    "### Notation\n",
    "\n",
    "A system of linear algebraic equations is written as follows:\n",
    "\n",
    "$$\n",
    "A_{11}x_1 + A_{12}x_2 + \\ldots + A_{1n}x_n = b_1\\\\\n",
    "A_{21}x_1 + A_{22}x_2 + \\ldots + A_{2n}x_n = b_2\\\\\n",
    ".\\\\\n",
    ".\\\\\n",
    ".\\\\\n",
    "A_{n1}x_1 + A_{n2}x_2 + \\ldots + A_{nn}x_n = b_n\n",
    "$$\n",
    "\n",
    "where $x_i$ are the unknowns."
   ]
  },
  {
   "cell_type": "markdown",
   "metadata": {},
   "source": [
    "It can be represented as $\\textbf{Ax}=\\textbf{b}$, where A is an $n \\times n$ matrix, $\\textbf{x}$ is a vector of n unknowns and $\\textbf{b}$ is a vector of $n$ constants:\n",
    "\n",
    "$$\n",
    "    \\begin{bmatrix}\n",
    "        A_{11} & A_{12} & ... & A_{1n} \\\\\n",
    "        A_{21} & A_{22} & ... & A_{2n} \\\\\n",
    "        ...    & ...    & ... & ...    \\\\\n",
    "        A_{n1} & A_{n2} & ... & A_{nn}\n",
    "    \\end{bmatrix}\n",
    "    \\begin{bmatrix}\n",
    "    x_1\\\\\n",
    "    x_2\\\\\n",
    "    ...\\\\\n",
    "    x_n\n",
    "    \\end{bmatrix}\n",
    "    =\n",
    "    \\begin{bmatrix}\n",
    "    b_1\\\\\n",
    "    b_2\\\\\n",
    "    ...\\\\\n",
    "    b_n\n",
    "    \\end{bmatrix}\n",
    "$$\n"
   ]
  },
  {
   "cell_type": "markdown",
   "metadata": {},
   "source": [
    "### Uniqueness of Solution\n",
    "\n",
    "A system of $n$ linear algebraic equations has a unique solution if and only if $\\textbf{A}$ is $\\textit{nonsingular}$, that is: det($\\textbf{A}$) $\\neq$ 0. \n",
    "\n",
    "#### Determinant of a Matrix\n",
    "\n",
    "The determinant of a 2x2 matrix is defined as:\n",
    "\n",
    "$$\n",
    "\\mathrm{det}(\\textbf{A}) = A_{11}A_{22}-A_{12}A_{21}\n",
    "$$\n",
    "\n",
    "The determinant of a nxn matrix is defined recursively, $\\forall i \\leq n$: \n",
    "\n",
    "$$\n",
    "\\mathrm{det}(\\textbf{A}) = \\sum_{k=1}^n(-1)^{k+1}A_{ik}M_{ik}\n",
    "$$\n",
    "\n",
    "This expression is called the Laplace developement of the determinant.\n",
    "\n",
    "The following function computes the determinant of a matrix defined in a numpy array."
   ]
  },
  {
   "cell_type": "code",
   "execution_count": 1,
   "metadata": {},
   "outputs": [],
   "source": [
    "from numpy import array\n",
    "from numpy import zeros\n",
    "\n",
    "def determinant(a):\n",
    "    # Check that a is square and of size at least 2\n",
    "    assert(len(a)>=2)\n",
    "    assert(all(len(row) == len(a) for row in a))\n",
    "    # Case n=2\n",
    "    if len(a) == 2:\n",
    "        return a[0,0]*a[1,1]-a[0,1]*a[1,0]\n",
    "    # Other cases\n",
    "    det = 0\n",
    "    n = len(a)\n",
    "    for k in range(n): # from 0 to n-1\n",
    "        # Build Mik\n",
    "        m = zeros((n-1,n-1))\n",
    "        i = 0 # could be any int between 0 and n-1\n",
    "        for l in range(0, n):\n",
    "            if l == i: # skip row i\n",
    "                continue\n",
    "            for j in range(n-1):\n",
    "                if j < k:\n",
    "                    m[l-1,j] = a[l,j]\n",
    "                else:\n",
    "                    m[l-1,j] = a[l,j+1]\n",
    "        det += (-1)**(k)*a[i,k]*determinant(m)\n",
    "    return det\n"
   ]
  },
  {
   "cell_type": "markdown",
   "metadata": {},
   "source": [
    "If A is singular, the system has no solution or an infinite number of solutions."
   ]
  },
  {
   "cell_type": "markdown",
   "metadata": {},
   "source": [
    "#### Example 2.1.1\n",
    "\n",
    "Determine whether the following matrix is singular:\n",
    "\n",
    "$$\n",
    "\\textbf{A}=\n",
    "\\begin{bmatrix}\n",
    "        2.1 & -0.6 & 1.1 \\\\\n",
    "        3.2 & 4.7 & -0.8 \\\\\n",
    "        3.1 & -6.5 & 4.1 \n",
    "    \\end{bmatrix}\n",
    "$$"
   ]
  },
  {
   "cell_type": "markdown",
   "metadata": {},
   "source": [
    "Using our own function:"
   ]
  },
  {
   "cell_type": "code",
   "execution_count": 2,
   "metadata": {},
   "outputs": [
    {
     "data": {
      "text/plain": [
       "-1.4210854715202004e-14"
      ]
     },
     "execution_count": 2,
     "metadata": {},
     "output_type": "execute_result"
    }
   ],
   "source": [
    "a = array([[2.1, -0.6, 1.1], [3.2, 4.7, -0.8], [3.1, -6.5, 4.1]])\n",
    "determinant(a)"
   ]
  },
  {
   "cell_type": "markdown",
   "metadata": {},
   "source": [
    "Using numpy:"
   ]
  },
  {
   "cell_type": "code",
   "execution_count": 3,
   "metadata": {},
   "outputs": [
    {
     "data": {
      "text/plain": [
       "0.0"
      ]
     },
     "execution_count": 3,
     "metadata": {},
     "output_type": "execute_result"
    }
   ],
   "source": [
    "from numpy import linalg\n",
    "linalg.det(a)"
   ]
  },
  {
   "cell_type": "markdown",
   "metadata": {},
   "source": [
    "Since the determinant is zero, the matrix is singular."
   ]
  },
  {
   "cell_type": "markdown",
   "metadata": {},
   "source": [
    "#### Exercice 2.1.2 (in class)\n",
    "\n",
    "* Find examples of 2x2 and 3x3 matrices with a zero determinant.\n",
    "* Find examples of systems with (1) no solution, (2) an infinite number of solutions."
   ]
  },
  {
   "cell_type": "markdown",
   "metadata": {},
   "source": [
    "### Conditioning\n",
    "\n",
    "When the determinant of $\\textbf{A}$ is \"very small\", small changes in the matrix result in large changes in the solution. In this case, the solution $\\underline{cannot\\ be\\ trusted}$.\n",
    "\n",
    "To determine whether the determinant is small, we compare it to a matrix $\\textit{norm}$, for instance:\n",
    "\n",
    "Euclidean norm:\n",
    "\n",
    "$$\n",
    "||\\textbf{A}||_2 = \\sqrt{\\sum_{i=1}^n\\sum_{j=1}^nA_{ij}^2}\n",
    "$$\n",
    "\n",
    "Row-sum norm, a.k.a the infinity norm:\n",
    "\n",
    "$$\n",
    "||\\textbf{A}||_\\infty=\\max_{1\\leq i \\leq n}\\sum_{j=1}^n|A_{ij}|\n",
    "$$\n",
    "\n",
    "The $\\textit{condition number}$ of a matrix is defined as:\n",
    "\n",
    "$$\n",
    "\\mathrm{cond}(\\textbf{A}) = ||\\textbf{A}||.||\\textbf{A}^{-1}||\n",
    "$$\n",
    "\n",
    "If the condition number is close to unity, the matrix is well conditioned. On the contrary, a matrix with a large condition number is said to be $\\textit{ill-conditioned}$.\n",
    "\n",
    "Let's write a function to compute the condition number of a matrix:"
   ]
  },
  {
   "cell_type": "code",
   "execution_count": 4,
   "metadata": {},
   "outputs": [],
   "source": [
    "def norm(a): # infinity norm\n",
    "    n = 0\n",
    "    for row in a:\n",
    "        s = sum(abs(row))\n",
    "        if s > n:\n",
    "            n = s\n",
    "    return n\n",
    "                \n",
    "def condition(a):\n",
    "    from numpy.linalg import inv # this is cheating, we'll see later how to compute the inverse of a matrix\n",
    "    return norm(a)*norm(inv(a))"
   ]
  },
  {
   "cell_type": "markdown",
   "metadata": {},
   "source": [
    "And let's compute the condition number of the following matrix:\n",
    "\n",
    "$$\n",
    "\\textbf{A}=\n",
    "\\begin{bmatrix}\n",
    "        1 & -1.001 \\\\\n",
    "        2.001 & -2  \n",
    "    \\end{bmatrix}\n",
    "$$\n",
    "\n",
    "Using our function:"
   ]
  },
  {
   "cell_type": "code",
   "execution_count": 5,
   "metadata": {},
   "outputs": [
    {
     "data": {
      "text/plain": [
       "4001.000000000308"
      ]
     },
     "execution_count": 5,
     "metadata": {},
     "output_type": "execute_result"
    }
   ],
   "source": [
    "a = array([[1, -1.001], [2.001, -2]])\n",
    "condition(a)"
   ]
  },
  {
   "cell_type": "markdown",
   "metadata": {},
   "source": [
    "And using numpy:"
   ]
  },
  {
   "cell_type": "code",
   "execution_count": 6,
   "metadata": {},
   "outputs": [
    {
     "data": {
      "text/plain": [
       "4001.000000000308"
      ]
     },
     "execution_count": 6,
     "metadata": {},
     "output_type": "execute_result"
    }
   ],
   "source": [
    "from numpy import inf\n",
    "from numpy.linalg import cond\n",
    "cond(a, p=inf)"
   ]
  },
  {
   "cell_type": "markdown",
   "metadata": {},
   "source": [
    "#### Exercice 2.1.3 (in class): Effect of ill-conditioning on solutions.\n",
    "\n",
    "1. Solve the linear system defined by $\\textbf{Ax}$=$\\textbf{b}$, where:\n",
    "$\n",
    "\\textbf{A}=\n",
    "\\begin{bmatrix}\n",
    "        1 & -1.001 \\\\\n",
    "        2.001 & -2  \n",
    "    \\end{bmatrix}\n",
    "$\n",
    "and\n",
    "$\n",
    "\\textbf{b}=\n",
    "\\begin{bmatrix}\n",
    "        3 \\\\\n",
    "        7  \n",
    "    \\end{bmatrix}\n",
    "$\n"
   ]
  },
  {
   "cell_type": "code",
   "execution_count": 7,
   "metadata": {},
   "outputs": [
    {
     "data": {
      "text/plain": [
       "array([335.55481506, 332.22259247])"
      ]
     },
     "execution_count": 7,
     "metadata": {},
     "output_type": "execute_result"
    }
   ],
   "source": [
    "from numpy.linalg import solve # let's cheat for now, we'll program this in the next section\n",
    "\n",
    "a = array([[1, -1.001], [2.001, -2]])\n",
    "b = array([3, 7])\n",
    "solve(a, b)"
   ]
  },
  {
   "cell_type": "markdown",
   "metadata": {},
   "source": [
    "2. Solve the linear system defined by $\\textbf{Ax}$=$\\textbf{b}$, where:\n",
    "$\n",
    "\\textbf{A}=\n",
    "\\begin{bmatrix}\n",
    "        1 & -1.002 \\\\\n",
    "        2.002 & -2  \n",
    "    \\end{bmatrix}\n",
    "$\n",
    "and\n",
    "$\n",
    "\\textbf{b}=\n",
    "\\begin{bmatrix}\n",
    "        3 \\\\\n",
    "        7  \n",
    "    \\end{bmatrix}\n",
    "$"
   ]
  },
  {
   "cell_type": "code",
   "execution_count": 8,
   "metadata": {},
   "outputs": [
    {
     "data": {
      "text/plain": [
       "array([168.88740839, 165.5562958 ])"
      ]
     },
     "execution_count": 8,
     "metadata": {},
     "output_type": "execute_result"
    }
   ],
   "source": [
    "from numpy.linalg import solve # let's cheat for now, we'll program this in the next section\n",
    "\n",
    "a = array([[1, -1.002], [2.002, -2]])\n",
    "solve(a, b)"
   ]
  },
  {
   "cell_type": "markdown",
   "metadata": {},
   "source": [
    "### Methods of Solution\n",
    "\n",
    "There are two classes of methods to solve linear systems:\n",
    "* Direct methods\n",
    "* Iterative methods\n",
    "\n",
    "Direct methods work by applying the following three operations to rewrite the system in a form that permits resolution:\n",
    "* Exchanging two equations\n",
    "* Multiplying an equation by a nonzero constant\n",
    "* Subtracting an equation from another one\n",
    "\n",
    "Iterative methods start with an initial solution $\\textbf{x}$ and refine it until convergence. Iterative methods are generally used when the matrix is very large and sparse, for instance to solve the [PageRank](https://en.wikipedia.org/wiki/PageRank) equations.\n"
   ]
  },
  {
   "cell_type": "markdown",
   "metadata": {},
   "source": [
    "#### Overview of Direct Methods\n",
    "\n",
    "Direct methods are summarized in the Table below:\n",
    "\n",
    "| Method        | Initial form    | Final form  |\n",
    "| ------------- |:-------------:| -----:|\n",
    "| Gauss Elimination      | $\\textbf{Ax}=\\textbf{b}$ | $\\textbf{Ux}=\\textbf{c}$ |\n",
    "| LU decomposition      | $\\textbf{Ax}=\\textbf{b}$      |   $\\textbf{LUx}=\\textbf{b}$ |\n",
    "| Gauss-Jordan Elimination | $\\textbf{Ax}=\\textbf{b}$      |    $\\textbf{Ix}=\\textbf{c}$ |\n",
    "\n",
    "In this table, $\\textbf{U}$ represents an upper triangular matrix, $\\textbf{L}$ is a lower triangular matrix, and $\\textbf{I}$ is the identity matrix. \n",
    "\n",
    "A square matrix is called triangular if it contains only zero elements below (upper triangular) or above (lower triangular) the diagonal. For instance, the following matrix is upper triangular:\n",
    "$$\n",
    "\\textbf{U}=\\begin{bmatrix}\n",
    "1 & 2 & 3 \\\\\n",
    "0 & 4 & 5 \\\\\n",
    "0 & 0 & 6\n",
    "\\end{bmatrix}\n",
    "$$\n",
    "and the following matrix is lower triangular:\n",
    "$$\n",
    "\\textbf{L}=\\begin{bmatrix}\n",
    "1 & 0 & 0 \\\\\n",
    "2 & 3 & 0 \\\\\n",
    "4 & 5 & 6\n",
    "\\end{bmatrix}\n",
    "$$\n",
    "\n",
    "Systems of the form $\\textbf{Lx}$=$\\textbf{c}$ can easily be solved by a procedure called $\\textit{forward substitution}$: the first equation has only a single unknown, which is easy to solve; after solving the first equation, the second one has only one unknown remaining, and so on.\n",
    "\n",
    "#### Exercice 2.1.4\n",
    "\n",
    "Solve the system of linear equations defined by $\\textbf{Lx}$=$\\textbf{c}$, where:\n",
    "$\n",
    "\\textbf{L}=\n",
    "\\begin{bmatrix}\n",
    "        1 & 0 & 0 \\\\\n",
    "        2 & 4 & 0 \\\\\n",
    "        3 & 1  & 1\n",
    "    \\end{bmatrix}\n",
    "$ \n",
    "and\n",
    "$\n",
    "\\textbf{b}=\n",
    "\\begin{bmatrix}\n",
    "        1\\\\\n",
    "        3\\\\\n",
    "        2\n",
    "    \\end{bmatrix}\n",
    "$ \n",
    "\n"
   ]
  },
  {
   "cell_type": "code",
   "execution_count": 9,
   "metadata": {},
   "outputs": [
    {
     "data": {
      "text/plain": [
       "array([ 1.  ,  0.25, -1.25])"
      ]
     },
     "execution_count": 9,
     "metadata": {},
     "output_type": "execute_result"
    }
   ],
   "source": [
    "# You can verify your solution as follows, but the point is to do it manually to understand\n",
    "# how useful triangular matrices are!\n",
    "from numpy.linalg import solve\n",
    "\n",
    "a = array([[1, 0, 0], [2, 4, 0], [3, 1, 1]])\n",
    "b = array([1, 3, 2])\n",
    "solve(a, b)"
   ]
  },
  {
   "cell_type": "markdown",
   "metadata": {},
   "source": [
    "Likewise, systems of the form $\\textbf{Ux}$=$\\textbf{c}$ can easily be solved by $\\textit{back substitution}$, solving the last equation first. \n",
    "\n",
    "Finally, systems of the form $\\textbf{LUx}$=$\\textbf{c}$ can quickly be solved by solving first $\\textbf{Ly}$=$\\textbf{c}$ by forward substitution, and then $\\textbf{Ux}$=$\\textbf{y}$ by back substitution."
   ]
  },
  {
   "cell_type": "markdown",
   "metadata": {},
   "source": [
    "### Exercice 2.1.5 (Example 2.2 in textbook)\n",
    "\n",
    "Solve the equations $\\textbf{Ax}$=$\\textbf{b}$, where:\n",
    "$$\n",
    "\\textbf{A}=\n",
    "\\begin{bmatrix}\n",
    "        8 & -6 & 2 \\\\\n",
    "        -4 & 11 & -7 \\\\\n",
    "        4 & -7  & 6\n",
    "    \\end{bmatrix}\n",
    "    \\quad\n",
    "\\textbf{b}=\n",
    "\\begin{bmatrix}\n",
    "        28\\\\\n",
    "        -40\\\\\n",
    "        33\n",
    "    \\end{bmatrix}\n",
    "$$ \n",
    "knowing that the LU decomposition of $\\textbf{A}$ is (you should verify this):\n",
    "$$\n",
    "\\textbf{A}=\\textbf{LU}=\n",
    "\\begin{bmatrix}\n",
    "        2 & 0 & 0 \\\\\n",
    "        -1 & 2 & 0 \\\\\n",
    "        1 & -1  & 1\n",
    "    \\end{bmatrix}\n",
    "    \\begin{bmatrix}\n",
    "        4 & -3 & 1 \\\\\n",
    "        0 & 4 & -3 \\\\\n",
    "        0 & 0  & 2\n",
    "    \\end{bmatrix}\n",
    "$$\n"
   ]
  },
  {
   "cell_type": "markdown",
   "metadata": {},
   "source": [
    "## 2.2 Gauss Elimination"
   ]
  },
  {
   "cell_type": "markdown",
   "metadata": {},
   "source": [
    "This method consists of two phases:\n",
    "1. The elimination phase, to transform the equations in the form $\\textbf{Ux}$=$\\textbf{c}$,\n",
    "2. The back substitution phase, to solve the equations."
   ]
  },
  {
   "cell_type": "markdown",
   "metadata": {},
   "source": [
    "### Elimination phase\n",
    "\n",
    "The elimination phase multiplies equations by a constant and subtracts them, which is represented as follows:\n",
    "$$\n",
    "Eq.(i) \\leftarrow Eq.(i) - \\lambda Eq.(j)\n",
    "$$\n",
    "Equation $\\textit{j}$ is called the $\\textit{pivot}$."
   ]
  },
  {
   "cell_type": "markdown",
   "metadata": {},
   "source": [
    "For instance, let's consider the following equations:\n",
    "\n",
    "$$\n",
    "  3x_1+2x_2-7x_3=4  \\quad (a)\\\\\n",
    "  2x_1-x_2-4x_3=1   \\quad (b)\\\\\n",
    "  -x_1-3x_2+x_3=3   \\quad (c)\n",
    "$$"
   ]
  },
  {
   "cell_type": "markdown",
   "metadata": {},
   "source": [
    "We start the process by choosing Equation (a) as the pivot, and chosing $\\lambda$ to eliminate $x_1$ from Equations (b) and (c):\n",
    "$$\n",
    "Eq.(b) \\leftarrow Eq.(b) - \\frac{2}{3}Eq.(a)\\\\\n",
    "Eq.(c) \\leftarrow Eq.(c) - \\left( -\\frac{1}{3} \\right)Eq.(a)\n",
    "$$"
   ]
  },
  {
   "cell_type": "markdown",
   "metadata": {},
   "source": [
    "which gives:\n",
    "$$\n",
    "  3x_1+2x_2-7x_3=4  \\quad (a)\\\\\n",
    "  -\\frac{7}{3}x_2+\\frac{2}{3}x_3=-\\frac{5}{3}   \\quad (b)\\\\\n",
    "  -\\frac{7}{3}x_2-\\frac{4}{3}x_3=\\frac{13}{3}   \\quad (c)\n",
    "$$"
   ]
  },
  {
   "cell_type": "markdown",
   "metadata": {},
   "source": [
    "We now reiterate the process by choosing Equation (b) as the pivot to eliminate $x_2$ from Equation (c):\n",
    "$$\n",
    "Eq.(c) \\leftarrow Eq.(c) - Eq.(b)\n",
    "$$"
   ]
  },
  {
   "cell_type": "markdown",
   "metadata": {},
   "source": [
    "which gives:\n",
    "$$\n",
    "  3x_1+2x_2-7x_3=4  \\quad (a)\\\\\n",
    "  -\\frac{7}{3}x_2+\\frac{2}{3}x_3=-\\frac{5}{3}   \\quad (b)\\\\\n",
    "  -2x_3=\\frac{18}{3}   \\quad (c)\n",
    "$$"
   ]
  },
  {
   "cell_type": "markdown",
   "metadata": {},
   "source": [
    "The elimination phase is complete.\n",
    "\n",
    "### Back substitution\n",
    "\n",
    "We can now solve the equations by back substitution:\n",
    "$$\n",
    "x_3 = -\\frac{9}{3} = -3 \\quad (c) \\\\\n",
    "x_2 = -\\frac{3}{7} \\left(-\\frac{5}{3} + 2 \\right) = - \\frac{1}{7}\\quad (b) \\\\\n",
    "x_1 = \\frac{1}{3}\\left( 4 + \\frac{2}{7} - 21\\right) = -\\frac{39}{7} \\quad (a)\n",
    "$$"
   ]
  },
  {
   "cell_type": "markdown",
   "metadata": {},
   "source": [
    "Using the augmented notation, the process is written as follows:\n",
    "$$\n",
    "\\left[\n",
    "\\begin{array}{ccc|c}\n",
    "3 & 2 & -7 & 4 \\\\\n",
    "2 & -1 & -4 & 1 \\\\\n",
    "-1 & -3 & 1 & 3\n",
    "\\end{array}\n",
    "\\right]\n",
    "$$\n",
    "\n",
    "$$\n",
    "\\left[\n",
    "\\begin{array}{ccc|c}\n",
    "3 & 2 & -7 & 4 \\\\\n",
    "0 & -7/3 & 2/3 & -5/3 \\\\\n",
    "0 & -7/3 & -4/3 & 13/3\n",
    "\\end{array}\n",
    "\\right]\n",
    "$$\n",
    "\n",
    "$$\n",
    "\\left[\n",
    "\\begin{array}{ccc|c}\n",
    "3 & 2 & -7 & 4 \\\\\n",
    "0 & -7/3 & 2/3 & -5/3 \\\\\n",
    "0 & 0 & -2 & 18/3\n",
    "\\end{array}\n",
    "\\right]\n",
    "$$"
   ]
  },
  {
   "cell_type": "markdown",
   "metadata": {},
   "source": [
    "### Notes\n",
    "\n",
    "* The elimination phase leaves the determinant of the matrix unchanged.\n",
    "* The determinant of a triangular matrix is the product of its diagonal coefficients.\n",
    "\n",
    "Thus:\n",
    "\n",
    "$$\n",
    "\\mathrm{det}\\left(\n",
    "\\begin{bmatrix}\n",
    "3 & 2 & -7 \\\\\n",
    "2 & -1 & -4 \\\\\n",
    "-1 & -3 & 1\n",
    "\\end{bmatrix}\n",
    "\\right) = 3.-\\frac{7}{3}.-2 = 14\n",
    "$$"
   ]
  },
  {
   "cell_type": "code",
   "execution_count": null,
   "metadata": {},
   "outputs": [],
   "source": []
  },
  {
   "cell_type": "code",
   "execution_count": 10,
   "metadata": {},
   "outputs": [
    {
     "data": {
      "text/plain": [
       "14.0"
      ]
     },
     "execution_count": 10,
     "metadata": {},
     "output_type": "execute_result"
    }
   ],
   "source": [
    "a = array([[3, 2, -7], [2, -1, -4], [-1, -3, 1]])\n",
    "determinant(a)"
   ]
  },
  {
   "cell_type": "markdown",
   "metadata": {},
   "source": [
    "### Algorithm for Gauss Elimination Method\n",
    "\n",
    "#### Elimination Phase\n",
    "\n",
    "Let's look at the equations at iteration $k$ of the elimination process.\n",
    "\n",
    "* The first $k$ rows have already been transformed.\n",
    "* Row $k$ is the pivot row\n",
    "* Row $i$ is the row being transformed\n",
    "\n",
    "The augmented coefficient matrix is:\n",
    "$$\n",
    "\\left[\n",
    "\\begin{array}{ccccccccc|c}\n",
    "A_{11} & A_{12} & A_{13} & \\ldots & A_{1k} & \\ldots & A_{1j} & \\ldots & A_{1n} & b_1 \\\\\n",
    "0      & A_{22} & A_{23} & \\ldots & A_{2k} & \\ldots & A_{2j} & \\ldots & A_{2n} & b_2 \\\\\n",
    "0      & 0      & A_{33} & \\ldots & A_{3k} & \\ldots & A_{3j} & \\ldots & A_{3n} & b_3 \\\\\n",
    "\\ldots \\\\\n",
    "0      & 0      & 0 & \\ldots & A_{kk} & \\ldots & A_{kj} & \\ldots & A_{kn} & b_k \\\\\n",
    "\\hline\n",
    "\\ldots \\\\\n",
    "0      & 0      & 0 & \\ldots & A_{ik} & \\ldots & A_{ij} & \\ldots & A_{in} & b_i \\\\\n",
    "\\ldots \\\\\n",
    "0      & 0      & 0 & \\ldots & A_{nk} & \\ldots & A_{nj} & \\ldots & A_{nn} & b_n\n",
    "\\end{array}\n",
    "\\right]\n",
    "$$\n",
    "Note: the coefficients are not the one of the original matrix (why?, exception?).\n"
   ]
  },
  {
   "cell_type": "markdown",
   "metadata": {},
   "source": [
    "##### Principle\n",
    "* Use the first $n-1$ rows successively as pivot row $k$.\n",
    "* For each pivot row $k$, transform row $i$ ($k+1\\leq i \\leq n$) as follows: \n",
    "$$\n",
    "A_{ij} \\leftarrow A_{ij} - \\lambda_{ik} A_{jk}, \\forall j \\in [k, n]\n",
    "$$\n",
    "* With $\\lambda_{ik}$ such that after transformation, $A_{ik}=0$: \n",
    "$$\n",
    "\\lambda_{ik} = \\frac{A_{ik}}{A_{kk}}\n",
    "$$.\n",
    "\n",
    "##### Implementation"
   ]
  },
  {
   "cell_type": "code",
   "execution_count": 48,
   "metadata": {},
   "outputs": [],
   "source": [
    "def gauss_elimination(a, b, verbose=False):\n",
    "    n = len(a)\n",
    "    assert(n == len(b))\n",
    "    a = a.astype(float)\n",
    "    for k in range(n-1):\n",
    "        for i in range(k+1, n):\n",
    "            assert(a[k,k] != 0) # woops, what happens in this case? we'll talk about it later!\n",
    "            if (a[i,k] != 0): # no need to do anything when lambda is 0\n",
    "                lmbda = a[i,k]/a[k,k] # lambda is a reserved keyword in Python\n",
    "                a[i, k:n] = a[i, k:n] - lmbda*a[k, k:n] # list slice operations\n",
    "                b[i] = b[i] - lmbda*b[k]\n",
    "            if verbose:\n",
    "                print(a, b)"
   ]
  },
  {
   "cell_type": "markdown",
   "metadata": {},
   "source": [
    "##### Example"
   ]
  },
  {
   "cell_type": "code",
   "execution_count": 47,
   "metadata": {},
   "outputs": [
    {
     "data": {
      "text/plain": [
       "(array([[ 6.        , -4.        ,  1.        ],\n",
       "        [ 0.        ,  3.33333333, -3.33333333],\n",
       "        [ 0.        ,  0.        ,  2.5       ]]),\n",
       " [-14, 26.666666666666668, 35.0])"
      ]
     },
     "execution_count": 47,
     "metadata": {},
     "output_type": "execute_result"
    }
   ],
   "source": [
    "a = array([[6, -4, 1], [-4, 6, -4], [1, -4, 6]])\n",
    "b = [-14, 36, 6]\n",
    "gauss_elimination(a, b)"
   ]
  },
  {
   "cell_type": "markdown",
   "metadata": {},
   "source": [
    "#### Back substition phase\n",
    "\n",
    "After the elimination phase, the augmented matrix has the following form:\n",
    "$$\n",
    "\\left[\n",
    "\\begin{array}{ccccc|c}\n",
    "A_{11} & A_{12} & A_{13} & \\ldots & A_{1n} & b_1 \\\\\n",
    "0      & A_{22} & A_{23} & \\ldots & A_{2n} & b_2 \\\\\n",
    "0      & 0      & A_{33} & \\ldots & A_{3n} & b_3 \\\\\n",
    "\\ldots\\\\\n",
    "0      & 0      & 0 & \\ldots & A_{nn} & b_n\n",
    "\\end{array}\n",
    "\\right]\n",
    "$$"
   ]
  },
  {
   "cell_type": "markdown",
   "metadata": {},
   "source": [
    "The equations are solved from the last row to the first:\n",
    "* $x_n$ = $b_n/A_{nn}$\n",
    "* $\\forall i \\leq n, \\quad x_i = \\left( b_i - \\sum_{j = i +1}^n{A_{ij}x_{j}} \\right) \\frac{1}{A_{ii}}$"
   ]
  },
  {
   "cell_type": "markdown",
   "metadata": {},
   "source": [
    "##### Implementation"
   ]
  },
  {
   "cell_type": "code",
   "execution_count": 55,
   "metadata": {},
   "outputs": [],
   "source": [
    "from numpy import dot\n",
    "def gauss_substitution(a, b):\n",
    "    n = len(a)\n",
    "    assert(len(b)==n)\n",
    "    x = zeros(n)\n",
    "    for k in range(n):\n",
    "        i = n - 1 - k\n",
    "        x[i] = (b[i] - dot(a[i,i+1:], x[i+1:]))/a[i,i]\n",
    "    return x"
   ]
  },
  {
   "cell_type": "markdown",
   "metadata": {},
   "source": [
    "##### Example"
   ]
  },
  {
   "cell_type": "code",
   "execution_count": 57,
   "metadata": {},
   "outputs": [
    {
     "data": {
      "text/plain": [
       "array([2.25      , 8.33333333, 5.83333333])"
      ]
     },
     "execution_count": 57,
     "metadata": {},
     "output_type": "execute_result"
    }
   ],
   "source": [
    "a = array([[6, -4, 1], [-4, 6, -4], [1, -4, 6]])\n",
    "b = [-14, 36, 6]\n",
    "gauss_elimination(a, b)\n",
    "gauss_substitution(a, b)"
   ]
  },
  {
   "cell_type": "markdown",
   "metadata": {},
   "source": [
    "#### Complete Solver"
   ]
  },
  {
   "cell_type": "code",
   "execution_count": 62,
   "metadata": {},
   "outputs": [],
   "source": [
    "def gauss(a, b):\n",
    "    # Make a and b reusable\n",
    "    c = a.copy()\n",
    "    d = b.copy()\n",
    "    gauss_elimination(c, d)\n",
    "    return gauss_substitution(c, d)"
   ]
  },
  {
   "cell_type": "code",
   "execution_count": 60,
   "metadata": {},
   "outputs": [
    {
     "data": {
      "text/plain": [
       "array([2.25      , 8.33333333, 5.83333333])"
      ]
     },
     "execution_count": 60,
     "metadata": {},
     "output_type": "execute_result"
    }
   ],
   "source": [
    "a = array([[6, -4, 1], [-4, 6, -4], [1, -4, 6]])\n",
    "b = [-14, 36, 6]\n",
    "gauss(a, b)"
   ]
  },
  {
   "cell_type": "markdown",
   "metadata": {},
   "source": [
    "### Operations count\n",
    "\n",
    "$$\n",
    "\\sum_{k=1}^n \\sum_{i=k+1}^n 1 + 2(n-k) + 2 = \\sum_{k=1}^n 2(n-k)^2 + 3(n-k) = 2 \\sum_{k=0}^{n-1} k^2 + 3\\sum_{k=0}^{n-1} k = 2\\frac{n(n+1)(2n+1)}{6} + 3 \n",
    "$$"
   ]
  },
  {
   "cell_type": "code",
   "execution_count": null,
   "metadata": {},
   "outputs": [],
   "source": []
  }
 ],
 "metadata": {
  "kernelspec": {
   "display_name": "Python 3",
   "language": "python",
   "name": "python3"
  },
  "language_info": {
   "codemirror_mode": {
    "name": "ipython",
    "version": 3
   },
   "file_extension": ".py",
   "mimetype": "text/x-python",
   "name": "python",
   "nbconvert_exporter": "python",
   "pygments_lexer": "ipython3",
   "version": "3.6.6"
  }
 },
 "nbformat": 4,
 "nbformat_minor": 2
}
