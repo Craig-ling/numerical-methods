{
 "cells": [
  {
   "cell_type": "markdown",
   "metadata": {},
   "source": [
    "# Chapter 2: Systems of Linear Algebraic Equations\n",
    "\n",
    "*Warning:* This is a critical chapter of the course.\n",
    "\n",
    "## 2.1 Introduction\n",
    "\n",
    "### Notation\n",
    "\n",
    "A system of linear algebraic equations is written as follows:\n",
    "\n",
    "$\n",
    "A_{11}x_1 + A_{12}x_2 + \\ldots + A_{1n}x_n = b_1\\\\\n",
    "A_{21}x_1 + A_{22}x_2 + \\ldots + A_{2n}x_n = b_2\\\\\n",
    ".\\\\\n",
    ".\\\\\n",
    ".\\\\\n",
    "A_{n1}x_1 + A_{n2}x_2 + \\ldots + A_{nn}x_n = b_n\n",
    "$\n",
    "\n",
    "where $x_i$ are the unknowns."
   ]
  },
  {
   "cell_type": "code",
   "execution_count": 2,
   "metadata": {},
   "outputs": [],
   "source": []
  },
  {
   "cell_type": "code",
   "execution_count": null,
   "metadata": {},
   "outputs": [],
   "source": []
  }
 ],
 "metadata": {
  "kernelspec": {
   "display_name": "Python 3",
   "language": "python",
   "name": "python3"
  },
  "language_info": {
   "codemirror_mode": {
    "name": "ipython",
    "version": 3
   },
   "file_extension": ".py",
   "mimetype": "text/x-python",
   "name": "python",
   "nbconvert_exporter": "python",
   "pygments_lexer": "ipython3",
   "version": "3.6.6"
  }
 },
 "nbformat": 4,
 "nbformat_minor": 2
}
